{
 "cells": [
  {
   "cell_type": "code",
   "execution_count": 1,
   "id": "8909635f",
   "metadata": {},
   "outputs": [],
   "source": [
    "import numpy as np\n",
    "import pandas as pd\n",
    "import matplotlib.pyplot as plt\n",
    "import seaborn as sns"
   ]
  },
  {
   "cell_type": "code",
   "execution_count": 2,
   "id": "974ab048",
   "metadata": {},
   "outputs": [],
   "source": [
    "# Using the famous titanic dataset\n",
    "df = sns.load_dataset('titanic')"
   ]
  },
  {
   "cell_type": "code",
   "execution_count": 3,
   "id": "67691486",
   "metadata": {
    "scrolled": true
   },
   "outputs": [
    {
     "name": "stdout",
     "output_type": "stream",
     "text": [
      "<class 'pandas.core.frame.DataFrame'>\n",
      "RangeIndex: 891 entries, 0 to 890\n",
      "Data columns (total 15 columns):\n",
      " #   Column       Non-Null Count  Dtype   \n",
      "---  ------       --------------  -----   \n",
      " 0   survived     891 non-null    int64   \n",
      " 1   pclass       891 non-null    int64   \n",
      " 2   sex          891 non-null    object  \n",
      " 3   age          714 non-null    float64 \n",
      " 4   sibsp        891 non-null    int64   \n",
      " 5   parch        891 non-null    int64   \n",
      " 6   fare         891 non-null    float64 \n",
      " 7   embarked     889 non-null    object  \n",
      " 8   class        891 non-null    category\n",
      " 9   who          891 non-null    object  \n",
      " 10  adult_male   891 non-null    bool    \n",
      " 11  deck         203 non-null    category\n",
      " 12  embark_town  889 non-null    object  \n",
      " 13  alive        891 non-null    object  \n",
      " 14  alone        891 non-null    bool    \n",
      "dtypes: bool(2), category(2), float64(2), int64(4), object(5)\n",
      "memory usage: 80.7+ KB\n"
     ]
    }
   ],
   "source": [
    "df.info()"
   ]
  },
  {
   "cell_type": "markdown",
   "id": "b22f04a4-00ce-4015-8f61-c3ad0712ba6c",
   "metadata": {},
   "source": [
    "<h4>Some Variable descriptions</h4>\n",
    "\n",
    "* Pclass = Passenger Class (1 = 1st; 2 = 2nd; 3 = 3rd)\n",
    "* survival =  Survival (0 = No; 1 = Yes)\n",
    "* name = Name\n",
    "* sex = Sex\n",
    "* age = Age\n",
    "* sibsp = Number of Siblings/Spouses Aboard\n",
    "* parch = Number of Parents/Children Aboard\n",
    "* fare = Passenger Fare (British pound)"
   ]
  },
  {
   "cell_type": "markdown",
   "id": "77ae2220-ef68-4ecb-a218-d03632ffcd68",
   "metadata": {},
   "source": [
    "### Exploratory Data Analysis"
   ]
  },
  {
   "cell_type": "code",
   "execution_count": 4,
   "id": "7e69d84d",
   "metadata": {},
   "outputs": [
    {
     "data": {
      "text/html": [
       "<div>\n",
       "<style scoped>\n",
       "    .dataframe tbody tr th:only-of-type {\n",
       "        vertical-align: middle;\n",
       "    }\n",
       "\n",
       "    .dataframe tbody tr th {\n",
       "        vertical-align: top;\n",
       "    }\n",
       "\n",
       "    .dataframe thead th {\n",
       "        text-align: right;\n",
       "    }\n",
       "</style>\n",
       "<table border=\"1\" class=\"dataframe\">\n",
       "  <thead>\n",
       "    <tr style=\"text-align: right;\">\n",
       "      <th></th>\n",
       "      <th>survived</th>\n",
       "      <th>pclass</th>\n",
       "      <th>sex</th>\n",
       "      <th>age</th>\n",
       "      <th>sibsp</th>\n",
       "      <th>parch</th>\n",
       "      <th>fare</th>\n",
       "      <th>embarked</th>\n",
       "      <th>class</th>\n",
       "      <th>who</th>\n",
       "      <th>adult_male</th>\n",
       "      <th>deck</th>\n",
       "      <th>embark_town</th>\n",
       "      <th>alive</th>\n",
       "      <th>alone</th>\n",
       "    </tr>\n",
       "  </thead>\n",
       "  <tbody>\n",
       "    <tr>\n",
       "      <th>0</th>\n",
       "      <td>0</td>\n",
       "      <td>3</td>\n",
       "      <td>male</td>\n",
       "      <td>22.0</td>\n",
       "      <td>1</td>\n",
       "      <td>0</td>\n",
       "      <td>7.2500</td>\n",
       "      <td>S</td>\n",
       "      <td>Third</td>\n",
       "      <td>man</td>\n",
       "      <td>True</td>\n",
       "      <td>NaN</td>\n",
       "      <td>Southampton</td>\n",
       "      <td>no</td>\n",
       "      <td>False</td>\n",
       "    </tr>\n",
       "    <tr>\n",
       "      <th>1</th>\n",
       "      <td>1</td>\n",
       "      <td>1</td>\n",
       "      <td>female</td>\n",
       "      <td>38.0</td>\n",
       "      <td>1</td>\n",
       "      <td>0</td>\n",
       "      <td>71.2833</td>\n",
       "      <td>C</td>\n",
       "      <td>First</td>\n",
       "      <td>woman</td>\n",
       "      <td>False</td>\n",
       "      <td>C</td>\n",
       "      <td>Cherbourg</td>\n",
       "      <td>yes</td>\n",
       "      <td>False</td>\n",
       "    </tr>\n",
       "    <tr>\n",
       "      <th>2</th>\n",
       "      <td>1</td>\n",
       "      <td>3</td>\n",
       "      <td>female</td>\n",
       "      <td>26.0</td>\n",
       "      <td>0</td>\n",
       "      <td>0</td>\n",
       "      <td>7.9250</td>\n",
       "      <td>S</td>\n",
       "      <td>Third</td>\n",
       "      <td>woman</td>\n",
       "      <td>False</td>\n",
       "      <td>NaN</td>\n",
       "      <td>Southampton</td>\n",
       "      <td>yes</td>\n",
       "      <td>True</td>\n",
       "    </tr>\n",
       "    <tr>\n",
       "      <th>3</th>\n",
       "      <td>1</td>\n",
       "      <td>1</td>\n",
       "      <td>female</td>\n",
       "      <td>35.0</td>\n",
       "      <td>1</td>\n",
       "      <td>0</td>\n",
       "      <td>53.1000</td>\n",
       "      <td>S</td>\n",
       "      <td>First</td>\n",
       "      <td>woman</td>\n",
       "      <td>False</td>\n",
       "      <td>C</td>\n",
       "      <td>Southampton</td>\n",
       "      <td>yes</td>\n",
       "      <td>False</td>\n",
       "    </tr>\n",
       "    <tr>\n",
       "      <th>4</th>\n",
       "      <td>0</td>\n",
       "      <td>3</td>\n",
       "      <td>male</td>\n",
       "      <td>35.0</td>\n",
       "      <td>0</td>\n",
       "      <td>0</td>\n",
       "      <td>8.0500</td>\n",
       "      <td>S</td>\n",
       "      <td>Third</td>\n",
       "      <td>man</td>\n",
       "      <td>True</td>\n",
       "      <td>NaN</td>\n",
       "      <td>Southampton</td>\n",
       "      <td>no</td>\n",
       "      <td>True</td>\n",
       "    </tr>\n",
       "  </tbody>\n",
       "</table>\n",
       "</div>"
      ],
      "text/plain": [
       "   survived  pclass     sex   age  sibsp  parch     fare embarked  class  \\\n",
       "0         0       3    male  22.0      1      0   7.2500        S  Third   \n",
       "1         1       1  female  38.0      1      0  71.2833        C  First   \n",
       "2         1       3  female  26.0      0      0   7.9250        S  Third   \n",
       "3         1       1  female  35.0      1      0  53.1000        S  First   \n",
       "4         0       3    male  35.0      0      0   8.0500        S  Third   \n",
       "\n",
       "     who  adult_male deck  embark_town alive  alone  \n",
       "0    man        True  NaN  Southampton    no  False  \n",
       "1  woman       False    C    Cherbourg   yes  False  \n",
       "2  woman       False  NaN  Southampton   yes   True  \n",
       "3  woman       False    C  Southampton   yes  False  \n",
       "4    man        True  NaN  Southampton    no   True  "
      ]
     },
     "execution_count": 4,
     "metadata": {},
     "output_type": "execute_result"
    }
   ],
   "source": [
    "df.head()"
   ]
  },
  {
   "cell_type": "code",
   "execution_count": 5,
   "id": "411db5fa",
   "metadata": {},
   "outputs": [],
   "source": [
    "# declare a new dataset that includes only people who survived\n",
    "survived = df[df['survived'] == 1]"
   ]
  },
  {
   "cell_type": "code",
   "execution_count": 6,
   "id": "6553d045",
   "metadata": {},
   "outputs": [
    {
     "data": {
      "image/png": "[encoded data removed]",
      "text/plain": [
       "<Figure size 640x480 with 2 Axes>"
      ]
     },
     "metadata": {},
     "output_type": "display_data"
    }
   ],
   "source": [
    "fig, ax = plt.subplots(nrows=1,ncols=2)\n",
    "sns.histplot(data=df,x='age',ax=ax[0],kde=True,hue='sex')\n",
    "sns.histplot(data=survived, x='age',ax=ax[1],kde=True,hue='sex')\n",
    "\n",
    "fig.suptitle('Age distribution of Titanic passengers and Titanic survivors')\n",
    "fig.subplots_adjust(wspace=0.5)\n",
    "plt.show()"
   ]
  },
  {
   "cell_type": "code",
   "execution_count": 7,
   "id": "19e83251",
   "metadata": {},
   "outputs": [
    {
     "data": {
      "text/plain": [
       "29.69911764705882"
      ]
     },
     "execution_count": 7,
     "metadata": {},
     "output_type": "execute_result"
    }
   ],
   "source": [
    "df['age'].mean()"
   ]
  },
  {
   "cell_type": "code",
   "execution_count": 8,
   "id": "7969d015",
   "metadata": {},
   "outputs": [
    {
     "data": {
      "text/plain": [
       "28.343689655172415"
      ]
     },
     "execution_count": 8,
     "metadata": {},
     "output_type": "execute_result"
    }
   ],
   "source": [
    "survived['age'].mean()"
   ]
  },
  {
   "cell_type": "code",
   "execution_count": 9,
   "id": "7bfc2252",
   "metadata": {},
   "outputs": [
    {
     "data": {
      "text/plain": [
       "35.24"
      ]
     },
     "execution_count": 9,
     "metadata": {},
     "output_type": "execute_result"
    }
   ],
   "source": [
    "round(100 * len(df[df['sex'] == 'female']) / len(df),2)"
   ]
  },
  {
   "cell_type": "code",
   "execution_count": 10,
   "id": "3ad1d8ea",
   "metadata": {},
   "outputs": [
    {
     "data": {
      "text/plain": [
       "68.13"
      ]
     },
     "execution_count": 10,
     "metadata": {},
     "output_type": "execute_result"
    }
   ],
   "source": [
    "# It seems that the ratio of female survived was a nearly double than the ratio of women on board (35 vs 68 %)\n",
    "round(100 * len(survived[survived['sex'] == 'female']) / len(survived),2)"
   ]
  },
  {
   "cell_type": "code",
   "execution_count": 11,
   "id": "eec7de33",
   "metadata": {},
   "outputs": [
    {
     "data": {
      "image/png": "[encoded data removed]",
      "text/plain": [
       "<Figure size 640x480 with 1 Axes>"
      ]
     },
     "metadata": {},
     "output_type": "display_data"
    }
   ],
   "source": [
    "# Based on this boxplot it seems that in the first class, median age of survivors was a lot less than compared to other classes\n",
    "# Also, it seems that the better the class, the higher the age. Maybe these people have had time to gather wealth?\n",
    "sns.boxplot(data=df, y='age',x='class', hue='survived')\n",
    "plt.legend(loc=(1.05,0.5),title='Survived')\n",
    "plt.show()"
   ]
  },
  {
   "cell_type": "markdown",
   "id": "f0a9383e-b4f2-4be3-bf47-08f223873a6b",
   "metadata": {},
   "source": [
    "### Feature Engineering"
   ]
  },
  {
   "cell_type": "code",
   "execution_count": 12,
   "id": "3964c0c7-1ab8-4094-94a7-2911154a7ec0",
   "metadata": {},
   "outputs": [],
   "source": [
    "# Creating a new column, adult female since the dataset has also column adult male\n",
    "df['adult_female'] = False\n",
    "df.loc[(df['age'] > 18) & (df['sex'] == 'female'), 'adult_female'] = True"
   ]
  },
  {
   "cell_type": "markdown",
   "id": "cef4336c-43cc-480d-af6e-fdf23e8c1c82",
   "metadata": {},
   "source": [
    "### Dealing with missing values and cleaning data"
   ]
  },
  {
   "cell_type": "code",
   "execution_count": 13,
   "id": "d56e1974-3b36-4ac8-90dd-57ccb840d0d1",
   "metadata": {},
   "outputs": [
    {
     "data": {
      "text/plain": [
       "survived          0\n",
       "pclass            0\n",
       "sex               0\n",
       "age             177\n",
       "sibsp             0\n",
       "parch             0\n",
       "fare              0\n",
       "embarked          2\n",
       "class             0\n",
       "who               0\n",
       "adult_male        0\n",
       "deck            688\n",
       "embark_town       2\n",
       "alive             0\n",
       "alone             0\n",
       "adult_female      0\n",
       "dtype: int64"
      ]
     },
     "execution_count": 13,
     "metadata": {},
     "output_type": "execute_result"
    }
   ],
   "source": [
    "df.isnull().sum()"
   ]
  },
  {
   "cell_type": "code",
   "execution_count": 14,
   "id": "9e8eba11-cde1-4614-8360-981dfa3a0fc4",
   "metadata": {},
   "outputs": [],
   "source": [
    "# Dropping embarked column since embark_town contains essentially the same information\n",
    "df = df.drop('embarked', axis=1)\n",
    "\n",
    "# Also dropping alive column because that does not help answering the question whether someone survived the accident or not :)\n",
    "df = df.drop('alive', axis=1)\n",
    "\n",
    "# .. And who column because it contains the same information as sex column\n",
    "df = df.drop('who', axis=1)\n",
    "\n",
    "# ... And pclass that contains same information as Class column\n",
    "df = df.drop('pclass', axis=1)"
   ]
  },
  {
   "cell_type": "code",
   "execution_count": 15,
   "id": "14f2d5a1-deef-4687-bbec-8852f7320691",
   "metadata": {},
   "outputs": [
    {
     "data": {
      "text/plain": [
       "survived          0\n",
       "sex               0\n",
       "age             177\n",
       "sibsp             0\n",
       "parch             0\n",
       "fare              0\n",
       "class             0\n",
       "adult_male        0\n",
       "deck            688\n",
       "embark_town       2\n",
       "alone             0\n",
       "adult_female      0\n",
       "dtype: int64"
      ]
     },
     "execution_count": 15,
     "metadata": {},
     "output_type": "execute_result"
    }
   ],
   "source": [
    "df.isnull().sum()"
   ]
  },
  {
   "cell_type": "code",
   "execution_count": 16,
   "id": "d801b74b-93d9-4317-b9af-69ea3ff14944",
   "metadata": {},
   "outputs": [],
   "source": [
    "# Dropping out rows where embark town is NaN. Dropping out is probably fine because there are only two such rows.\n",
    "df = df[df['embark_town'].notna()]"
   ]
  },
  {
   "cell_type": "code",
   "execution_count": 17,
   "id": "cd50ef74-9838-42e3-a785-367d6364192c",
   "metadata": {},
   "outputs": [
    {
     "data": {
      "text/plain": [
       "survived          0\n",
       "sex               0\n",
       "age             177\n",
       "sibsp             0\n",
       "parch             0\n",
       "fare              0\n",
       "class             0\n",
       "adult_male        0\n",
       "deck            688\n",
       "embark_town       0\n",
       "alone             0\n",
       "adult_female      0\n",
       "dtype: int64"
      ]
     },
     "execution_count": 17,
     "metadata": {},
     "output_type": "execute_result"
    }
   ],
   "source": [
    "df.isna().sum()"
   ]
  },
  {
   "cell_type": "code",
   "execution_count": 18,
   "id": "f13a7803-f613-4592-a6e5-7041a7cea76c",
   "metadata": {},
   "outputs": [
    {
     "data": {
      "text/plain": [
       "sex\n",
       "female    27.745174\n",
       "male      30.726645\n",
       "Name: age, dtype: float64"
      ]
     },
     "execution_count": 18,
     "metadata": {},
     "output_type": "execute_result"
    }
   ],
   "source": [
    "df.groupby('sex')['age'].mean()"
   ]
  },
  {
   "cell_type": "code",
   "execution_count": 19,
   "id": "946fdcc8-1204-4744-ae79-d9a8bbe4fd6a",
   "metadata": {},
   "outputs": [],
   "source": [
    "# Filling missing age values with the mean age's of that passengers gender, a quick and dirty method\n",
    "df['age'] = df.groupby('sex')['age'].transform(lambda value: value.fillna(round(value.mean(),0)))"
   ]
  },
  {
   "cell_type": "code",
   "execution_count": 20,
   "id": "7be78c07-4f3a-48f9-a3aa-d68448643841",
   "metadata": {},
   "outputs": [
    {
     "data": {
      "text/plain": [
       "survived          0\n",
       "sex               0\n",
       "age               0\n",
       "sibsp             0\n",
       "parch             0\n",
       "fare              0\n",
       "class             0\n",
       "adult_male        0\n",
       "deck            688\n",
       "embark_town       0\n",
       "alone             0\n",
       "adult_female      0\n",
       "dtype: int64"
      ]
     },
     "execution_count": 20,
     "metadata": {},
     "output_type": "execute_result"
    }
   ],
   "source": [
    "df.isna().sum()"
   ]
  },
  {
   "cell_type": "code",
   "execution_count": 21,
   "id": "d8c3d757-319b-4f43-b19b-d854a4dde05f",
   "metadata": {},
   "outputs": [
    {
     "data": {
      "text/plain": [
       "[NaN, 'C', 'E', 'G', 'D', 'A', 'B', 'F']\n",
       "Categories (7, object): ['A', 'B', 'C', 'D', 'E', 'F', 'G']"
      ]
     },
     "execution_count": 21,
     "metadata": {},
     "output_type": "execute_result"
    }
   ],
   "source": [
    "df['deck'].unique()"
   ]
  },
  {
   "cell_type": "code",
   "execution_count": 22,
   "id": "b613f2e1-d6dc-4243-bff4-f1df205a8a39",
   "metadata": {},
   "outputs": [],
   "source": [
    "# Creating a new category Unknown which will be used to fill missing values in the deck column\n",
    "df['deck'] = df['deck'].cat.add_categories(['Unknown'])\n",
    "df['deck'] = df['deck'].fillna('Unknown')"
   ]
  },
  {
   "cell_type": "code",
   "execution_count": 23,
   "id": "25d0a82c-9c7c-4956-983f-dbdebdb5ce27",
   "metadata": {},
   "outputs": [
    {
     "data": {
      "text/plain": [
       "survived        0\n",
       "sex             0\n",
       "age             0\n",
       "sibsp           0\n",
       "parch           0\n",
       "fare            0\n",
       "class           0\n",
       "adult_male      0\n",
       "deck            0\n",
       "embark_town     0\n",
       "alone           0\n",
       "adult_female    0\n",
       "dtype: int64"
      ]
     },
     "execution_count": 23,
     "metadata": {},
     "output_type": "execute_result"
    }
   ],
   "source": [
    "df.isna().sum()"
   ]
  },
  {
   "cell_type": "code",
   "execution_count": 24,
   "id": "242956f2-c1c5-46e1-a2e9-4f08612a13e8",
   "metadata": {},
   "outputs": [
    {
     "data": {
      "text/html": [
       "<div>\n",
       "<style scoped>\n",
       "    .dataframe tbody tr th:only-of-type {\n",
       "        vertical-align: middle;\n",
       "    }\n",
       "\n",
       "    .dataframe tbody tr th {\n",
       "        vertical-align: top;\n",
       "    }\n",
       "\n",
       "    .dataframe thead th {\n",
       "        text-align: right;\n",
       "    }\n",
       "</style>\n",
       "<table border=\"1\" class=\"dataframe\">\n",
       "  <thead>\n",
       "    <tr style=\"text-align: right;\">\n",
       "      <th></th>\n",
       "      <th>survived</th>\n",
       "      <th>sex</th>\n",
       "      <th>age</th>\n",
       "      <th>sibsp</th>\n",
       "      <th>parch</th>\n",
       "      <th>fare</th>\n",
       "      <th>class</th>\n",
       "      <th>adult_male</th>\n",
       "      <th>deck</th>\n",
       "      <th>embark_town</th>\n",
       "      <th>alone</th>\n",
       "      <th>adult_female</th>\n",
       "    </tr>\n",
       "  </thead>\n",
       "  <tbody>\n",
       "    <tr>\n",
       "      <th>0</th>\n",
       "      <td>0</td>\n",
       "      <td>male</td>\n",
       "      <td>22.0</td>\n",
       "      <td>1</td>\n",
       "      <td>0</td>\n",
       "      <td>7.2500</td>\n",
       "      <td>Third</td>\n",
       "      <td>True</td>\n",
       "      <td>Unknown</td>\n",
       "      <td>Southampton</td>\n",
       "      <td>False</td>\n",
       "      <td>False</td>\n",
       "    </tr>\n",
       "    <tr>\n",
       "      <th>1</th>\n",
       "      <td>1</td>\n",
       "      <td>female</td>\n",
       "      <td>38.0</td>\n",
       "      <td>1</td>\n",
       "      <td>0</td>\n",
       "      <td>71.2833</td>\n",
       "      <td>First</td>\n",
       "      <td>False</td>\n",
       "      <td>C</td>\n",
       "      <td>Cherbourg</td>\n",
       "      <td>False</td>\n",
       "      <td>True</td>\n",
       "    </tr>\n",
       "    <tr>\n",
       "      <th>2</th>\n",
       "      <td>1</td>\n",
       "      <td>female</td>\n",
       "      <td>26.0</td>\n",
       "      <td>0</td>\n",
       "      <td>0</td>\n",
       "      <td>7.9250</td>\n",
       "      <td>Third</td>\n",
       "      <td>False</td>\n",
       "      <td>Unknown</td>\n",
       "      <td>Southampton</td>\n",
       "      <td>True</td>\n",
       "      <td>True</td>\n",
       "    </tr>\n",
       "    <tr>\n",
       "      <th>3</th>\n",
       "      <td>1</td>\n",
       "      <td>female</td>\n",
       "      <td>35.0</td>\n",
       "      <td>1</td>\n",
       "      <td>0</td>\n",
       "      <td>53.1000</td>\n",
       "      <td>First</td>\n",
       "      <td>False</td>\n",
       "      <td>C</td>\n",
       "      <td>Southampton</td>\n",
       "      <td>False</td>\n",
       "      <td>True</td>\n",
       "    </tr>\n",
       "    <tr>\n",
       "      <th>4</th>\n",
       "      <td>0</td>\n",
       "      <td>male</td>\n",
       "      <td>35.0</td>\n",
       "      <td>0</td>\n",
       "      <td>0</td>\n",
       "      <td>8.0500</td>\n",
       "      <td>Third</td>\n",
       "      <td>True</td>\n",
       "      <td>Unknown</td>\n",
       "      <td>Southampton</td>\n",
       "      <td>True</td>\n",
       "      <td>False</td>\n",
       "    </tr>\n",
       "  </tbody>\n",
       "</table>\n",
       "</div>"
      ],
      "text/plain": [
       "   survived     sex   age  sibsp  parch     fare  class  adult_male     deck  \\\n",
       "0         0    male  22.0      1      0   7.2500  Third        True  Unknown   \n",
       "1         1  female  38.0      1      0  71.2833  First       False        C   \n",
       "2         1  female  26.0      0      0   7.9250  Third       False  Unknown   \n",
       "3         1  female  35.0      1      0  53.1000  First       False        C   \n",
       "4         0    male  35.0      0      0   8.0500  Third        True  Unknown   \n",
       "\n",
       "   embark_town  alone  adult_female  \n",
       "0  Southampton  False         False  \n",
       "1    Cherbourg  False          True  \n",
       "2  Southampton   True          True  \n",
       "3  Southampton  False          True  \n",
       "4  Southampton   True         False  "
      ]
     },
     "execution_count": 24,
     "metadata": {},
     "output_type": "execute_result"
    }
   ],
   "source": [
    "df.head()"
   ]
  },
  {
   "cell_type": "code",
   "execution_count": 25,
   "id": "918cd36e-1dc0-46e1-b660-5147eea654fa",
   "metadata": {},
   "outputs": [
    {
     "data": {
      "text/plain": [
       "array([1, 0, 3, 4, 2, 5, 8], dtype=int64)"
      ]
     },
     "execution_count": 25,
     "metadata": {},
     "output_type": "execute_result"
    }
   ],
   "source": [
    "df['sibsp'].unique()"
   ]
  },
  {
   "cell_type": "code",
   "execution_count": 26,
   "id": "bc87e913-27ee-474c-acb7-1855bad8cb00",
   "metadata": {},
   "outputs": [
    {
     "data": {
      "text/html": [
       "<div>\n",
       "<style scoped>\n",
       "    .dataframe tbody tr th:only-of-type {\n",
       "        vertical-align: middle;\n",
       "    }\n",
       "\n",
       "    .dataframe tbody tr th {\n",
       "        vertical-align: top;\n",
       "    }\n",
       "\n",
       "    .dataframe thead th {\n",
       "        text-align: right;\n",
       "    }\n",
       "</style>\n",
       "<table border=\"1\" class=\"dataframe\">\n",
       "  <thead>\n",
       "    <tr style=\"text-align: right;\">\n",
       "      <th></th>\n",
       "      <th>survived</th>\n",
       "      <th>sex</th>\n",
       "      <th>age</th>\n",
       "      <th>sibsp</th>\n",
       "      <th>parch</th>\n",
       "      <th>fare</th>\n",
       "      <th>class</th>\n",
       "      <th>adult_male</th>\n",
       "      <th>deck</th>\n",
       "      <th>embark_town</th>\n",
       "      <th>alone</th>\n",
       "      <th>adult_female</th>\n",
       "    </tr>\n",
       "  </thead>\n",
       "  <tbody>\n",
       "    <tr>\n",
       "      <th>0</th>\n",
       "      <td>0</td>\n",
       "      <td>male</td>\n",
       "      <td>22.0</td>\n",
       "      <td>1</td>\n",
       "      <td>0</td>\n",
       "      <td>7.2500</td>\n",
       "      <td>Third</td>\n",
       "      <td>1</td>\n",
       "      <td>Unknown</td>\n",
       "      <td>Southampton</td>\n",
       "      <td>0</td>\n",
       "      <td>0</td>\n",
       "    </tr>\n",
       "    <tr>\n",
       "      <th>1</th>\n",
       "      <td>1</td>\n",
       "      <td>female</td>\n",
       "      <td>38.0</td>\n",
       "      <td>1</td>\n",
       "      <td>0</td>\n",
       "      <td>71.2833</td>\n",
       "      <td>First</td>\n",
       "      <td>0</td>\n",
       "      <td>C</td>\n",
       "      <td>Cherbourg</td>\n",
       "      <td>0</td>\n",
       "      <td>1</td>\n",
       "    </tr>\n",
       "    <tr>\n",
       "      <th>2</th>\n",
       "      <td>1</td>\n",
       "      <td>female</td>\n",
       "      <td>26.0</td>\n",
       "      <td>0</td>\n",
       "      <td>0</td>\n",
       "      <td>7.9250</td>\n",
       "      <td>Third</td>\n",
       "      <td>0</td>\n",
       "      <td>Unknown</td>\n",
       "      <td>Southampton</td>\n",
       "      <td>1</td>\n",
       "      <td>1</td>\n",
       "    </tr>\n",
       "    <tr>\n",
       "      <th>3</th>\n",
       "      <td>1</td>\n",
       "      <td>female</td>\n",
       "      <td>35.0</td>\n",
       "      <td>1</td>\n",
       "      <td>0</td>\n",
       "      <td>53.1000</td>\n",
       "      <td>First</td>\n",
       "      <td>0</td>\n",
       "      <td>C</td>\n",
       "      <td>Southampton</td>\n",
       "      <td>0</td>\n",
       "      <td>1</td>\n",
       "    </tr>\n",
       "    <tr>\n",
       "      <th>4</th>\n",
       "      <td>0</td>\n",
       "      <td>male</td>\n",
       "      <td>35.0</td>\n",
       "      <td>0</td>\n",
       "      <td>0</td>\n",
       "      <td>8.0500</td>\n",
       "      <td>Third</td>\n",
       "      <td>1</td>\n",
       "      <td>Unknown</td>\n",
       "      <td>Southampton</td>\n",
       "      <td>1</td>\n",
       "      <td>0</td>\n",
       "    </tr>\n",
       "  </tbody>\n",
       "</table>\n",
       "</div>"
      ],
      "text/plain": [
       "   survived     sex   age sibsp parch     fare  class  adult_male     deck  \\\n",
       "0         0    male  22.0     1     0   7.2500  Third           1  Unknown   \n",
       "1         1  female  38.0     1     0  71.2833  First           0        C   \n",
       "2         1  female  26.0     0     0   7.9250  Third           0  Unknown   \n",
       "3         1  female  35.0     1     0  53.1000  First           0        C   \n",
       "4         0    male  35.0     0     0   8.0500  Third           1  Unknown   \n",
       "\n",
       "   embark_town  alone  adult_female  \n",
       "0  Southampton      0             0  \n",
       "1    Cherbourg      0             1  \n",
       "2  Southampton      1             1  \n",
       "3  Southampton      0             1  \n",
       "4  Southampton      1             0  "
      ]
     },
     "execution_count": 26,
     "metadata": {},
     "output_type": "execute_result"
    }
   ],
   "source": [
    "df['sibsp'] = df['sibsp'].astype('object')\n",
    "df['parch'] = df['parch'].astype('object')\n",
    "df['adult_male'] = df['adult_male'].astype('int')\n",
    "df['adult_female'] = df['adult_female'].astype('int')\n",
    "df['alone'] = df['alone'].astype('int')\n",
    "\n",
    "df.head()"
   ]
  },
  {
   "cell_type": "code",
   "execution_count": 27,
   "id": "77f75c6c-0887-466e-a158-1e7c3cbc66b7",
   "metadata": {},
   "outputs": [
    {
     "data": {
      "text/html": [
       "<div>\n",
       "<style scoped>\n",
       "    .dataframe tbody tr th:only-of-type {\n",
       "        vertical-align: middle;\n",
       "    }\n",
       "\n",
       "    .dataframe tbody tr th {\n",
       "        vertical-align: top;\n",
       "    }\n",
       "\n",
       "    .dataframe thead th {\n",
       "        text-align: right;\n",
       "    }\n",
       "</style>\n",
       "<table border=\"1\" class=\"dataframe\">\n",
       "  <thead>\n",
       "    <tr style=\"text-align: right;\">\n",
       "      <th></th>\n",
       "      <th>sex_male</th>\n",
       "      <th>sibsp_1</th>\n",
       "      <th>sibsp_2</th>\n",
       "      <th>sibsp_3</th>\n",
       "      <th>sibsp_4</th>\n",
       "      <th>sibsp_5</th>\n",
       "      <th>sibsp_8</th>\n",
       "      <th>parch_1</th>\n",
       "      <th>parch_2</th>\n",
       "      <th>parch_3</th>\n",
       "      <th>...</th>\n",
       "      <th>class_Third</th>\n",
       "      <th>deck_B</th>\n",
       "      <th>deck_C</th>\n",
       "      <th>deck_D</th>\n",
       "      <th>deck_E</th>\n",
       "      <th>deck_F</th>\n",
       "      <th>deck_G</th>\n",
       "      <th>deck_Unknown</th>\n",
       "      <th>embark_town_Queenstown</th>\n",
       "      <th>embark_town_Southampton</th>\n",
       "    </tr>\n",
       "  </thead>\n",
       "  <tbody>\n",
       "    <tr>\n",
       "      <th>0</th>\n",
       "      <td>1</td>\n",
       "      <td>1</td>\n",
       "      <td>0</td>\n",
       "      <td>0</td>\n",
       "      <td>0</td>\n",
       "      <td>0</td>\n",
       "      <td>0</td>\n",
       "      <td>0</td>\n",
       "      <td>0</td>\n",
       "      <td>0</td>\n",
       "      <td>...</td>\n",
       "      <td>1</td>\n",
       "      <td>0</td>\n",
       "      <td>0</td>\n",
       "      <td>0</td>\n",
       "      <td>0</td>\n",
       "      <td>0</td>\n",
       "      <td>0</td>\n",
       "      <td>1</td>\n",
       "      <td>0</td>\n",
       "      <td>1</td>\n",
       "    </tr>\n",
       "    <tr>\n",
       "      <th>1</th>\n",
       "      <td>0</td>\n",
       "      <td>1</td>\n",
       "      <td>0</td>\n",
       "      <td>0</td>\n",
       "      <td>0</td>\n",
       "      <td>0</td>\n",
       "      <td>0</td>\n",
       "      <td>0</td>\n",
       "      <td>0</td>\n",
       "      <td>0</td>\n",
       "      <td>...</td>\n",
       "      <td>0</td>\n",
       "      <td>0</td>\n",
       "      <td>1</td>\n",
       "      <td>0</td>\n",
       "      <td>0</td>\n",
       "      <td>0</td>\n",
       "      <td>0</td>\n",
       "      <td>0</td>\n",
       "      <td>0</td>\n",
       "      <td>0</td>\n",
       "    </tr>\n",
       "    <tr>\n",
       "      <th>2</th>\n",
       "      <td>0</td>\n",
       "      <td>0</td>\n",
       "      <td>0</td>\n",
       "      <td>0</td>\n",
       "      <td>0</td>\n",
       "      <td>0</td>\n",
       "      <td>0</td>\n",
       "      <td>0</td>\n",
       "      <td>0</td>\n",
       "      <td>0</td>\n",
       "      <td>...</td>\n",
       "      <td>1</td>\n",
       "      <td>0</td>\n",
       "      <td>0</td>\n",
       "      <td>0</td>\n",
       "      <td>0</td>\n",
       "      <td>0</td>\n",
       "      <td>0</td>\n",
       "      <td>1</td>\n",
       "      <td>0</td>\n",
       "      <td>1</td>\n",
       "    </tr>\n",
       "    <tr>\n",
       "      <th>3</th>\n",
       "      <td>0</td>\n",
       "      <td>1</td>\n",
       "      <td>0</td>\n",
       "      <td>0</td>\n",
       "      <td>0</td>\n",
       "      <td>0</td>\n",
       "      <td>0</td>\n",
       "      <td>0</td>\n",
       "      <td>0</td>\n",
       "      <td>0</td>\n",
       "      <td>...</td>\n",
       "      <td>0</td>\n",
       "      <td>0</td>\n",
       "      <td>1</td>\n",
       "      <td>0</td>\n",
       "      <td>0</td>\n",
       "      <td>0</td>\n",
       "      <td>0</td>\n",
       "      <td>0</td>\n",
       "      <td>0</td>\n",
       "      <td>1</td>\n",
       "    </tr>\n",
       "    <tr>\n",
       "      <th>4</th>\n",
       "      <td>1</td>\n",
       "      <td>0</td>\n",
       "      <td>0</td>\n",
       "      <td>0</td>\n",
       "      <td>0</td>\n",
       "      <td>0</td>\n",
       "      <td>0</td>\n",
       "      <td>0</td>\n",
       "      <td>0</td>\n",
       "      <td>0</td>\n",
       "      <td>...</td>\n",
       "      <td>1</td>\n",
       "      <td>0</td>\n",
       "      <td>0</td>\n",
       "      <td>0</td>\n",
       "      <td>0</td>\n",
       "      <td>0</td>\n",
       "      <td>0</td>\n",
       "      <td>1</td>\n",
       "      <td>0</td>\n",
       "      <td>1</td>\n",
       "    </tr>\n",
       "  </tbody>\n",
       "</table>\n",
       "<p>5 rows × 24 columns</p>\n",
       "</div>"
      ],
      "text/plain": [
       "   sex_male  sibsp_1  sibsp_2  sibsp_3  sibsp_4  sibsp_5  sibsp_8  parch_1  \\\n",
       "0         1        1        0        0        0        0        0        0   \n",
       "1         0        1        0        0        0        0        0        0   \n",
       "2         0        0        0        0        0        0        0        0   \n",
       "3         0        1        0        0        0        0        0        0   \n",
       "4         1        0        0        0        0        0        0        0   \n",
       "\n",
       "   parch_2  parch_3  ...  class_Third  deck_B  deck_C  deck_D  deck_E  deck_F  \\\n",
       "0        0        0  ...            1       0       0       0       0       0   \n",
       "1        0        0  ...            0       0       1       0       0       0   \n",
       "2        0        0  ...            1       0       0       0       0       0   \n",
       "3        0        0  ...            0       0       1       0       0       0   \n",
       "4        0        0  ...            1       0       0       0       0       0   \n",
       "\n",
       "   deck_G  deck_Unknown  embark_town_Queenstown  embark_town_Southampton  \n",
       "0       0             1                       0                        1  \n",
       "1       0             0                       0                        0  \n",
       "2       0             1                       0                        1  \n",
       "3       0             0                       0                        1  \n",
       "4       0             1                       0                        1  \n",
       "\n",
       "[5 rows x 24 columns]"
      ]
     },
     "execution_count": 27,
     "metadata": {},
     "output_type": "execute_result"
    }
   ],
   "source": [
    "dum = pd.get_dummies(df.drop(columns=['survived', 'age', 'fare', 'adult_male', 'adult_female', 'alone']), drop_first=True, dtype='int')\n",
    "dum.head()"
   ]
  },
  {
   "cell_type": "code",
   "execution_count": 28,
   "id": "ac24b5af-3892-44f9-bc12-f177444be55b",
   "metadata": {
    "scrolled": true
   },
   "outputs": [
    {
     "data": {
      "text/html": [
       "<div>\n",
       "<style scoped>\n",
       "    .dataframe tbody tr th:only-of-type {\n",
       "        vertical-align: middle;\n",
       "    }\n",
       "\n",
       "    .dataframe tbody tr th {\n",
       "        vertical-align: top;\n",
       "    }\n",
       "\n",
       "    .dataframe thead th {\n",
       "        text-align: right;\n",
       "    }\n",
       "</style>\n",
       "<table border=\"1\" class=\"dataframe\">\n",
       "  <thead>\n",
       "    <tr style=\"text-align: right;\">\n",
       "      <th></th>\n",
       "      <th>survived</th>\n",
       "      <th>age</th>\n",
       "      <th>fare</th>\n",
       "      <th>adult_male</th>\n",
       "      <th>alone</th>\n",
       "      <th>adult_female</th>\n",
       "      <th>sex_male</th>\n",
       "      <th>sibsp_1</th>\n",
       "      <th>sibsp_2</th>\n",
       "      <th>sibsp_3</th>\n",
       "      <th>...</th>\n",
       "      <th>class_Third</th>\n",
       "      <th>deck_B</th>\n",
       "      <th>deck_C</th>\n",
       "      <th>deck_D</th>\n",
       "      <th>deck_E</th>\n",
       "      <th>deck_F</th>\n",
       "      <th>deck_G</th>\n",
       "      <th>deck_Unknown</th>\n",
       "      <th>embark_town_Queenstown</th>\n",
       "      <th>embark_town_Southampton</th>\n",
       "    </tr>\n",
       "  </thead>\n",
       "  <tbody>\n",
       "    <tr>\n",
       "      <th>0</th>\n",
       "      <td>0</td>\n",
       "      <td>22.0</td>\n",
       "      <td>7.2500</td>\n",
       "      <td>1</td>\n",
       "      <td>0</td>\n",
       "      <td>0</td>\n",
       "      <td>1</td>\n",
       "      <td>1</td>\n",
       "      <td>0</td>\n",
       "      <td>0</td>\n",
       "      <td>...</td>\n",
       "      <td>1</td>\n",
       "      <td>0</td>\n",
       "      <td>0</td>\n",
       "      <td>0</td>\n",
       "      <td>0</td>\n",
       "      <td>0</td>\n",
       "      <td>0</td>\n",
       "      <td>1</td>\n",
       "      <td>0</td>\n",
       "      <td>1</td>\n",
       "    </tr>\n",
       "    <tr>\n",
       "      <th>1</th>\n",
       "      <td>1</td>\n",
       "      <td>38.0</td>\n",
       "      <td>71.2833</td>\n",
       "      <td>0</td>\n",
       "      <td>0</td>\n",
       "      <td>1</td>\n",
       "      <td>0</td>\n",
       "      <td>1</td>\n",
       "      <td>0</td>\n",
       "      <td>0</td>\n",
       "      <td>...</td>\n",
       "      <td>0</td>\n",
       "      <td>0</td>\n",
       "      <td>1</td>\n",
       "      <td>0</td>\n",
       "      <td>0</td>\n",
       "      <td>0</td>\n",
       "      <td>0</td>\n",
       "      <td>0</td>\n",
       "      <td>0</td>\n",
       "      <td>0</td>\n",
       "    </tr>\n",
       "    <tr>\n",
       "      <th>2</th>\n",
       "      <td>1</td>\n",
       "      <td>26.0</td>\n",
       "      <td>7.9250</td>\n",
       "      <td>0</td>\n",
       "      <td>1</td>\n",
       "      <td>1</td>\n",
       "      <td>0</td>\n",
       "      <td>0</td>\n",
       "      <td>0</td>\n",
       "      <td>0</td>\n",
       "      <td>...</td>\n",
       "      <td>1</td>\n",
       "      <td>0</td>\n",
       "      <td>0</td>\n",
       "      <td>0</td>\n",
       "      <td>0</td>\n",
       "      <td>0</td>\n",
       "      <td>0</td>\n",
       "      <td>1</td>\n",
       "      <td>0</td>\n",
       "      <td>1</td>\n",
       "    </tr>\n",
       "    <tr>\n",
       "      <th>3</th>\n",
       "      <td>1</td>\n",
       "      <td>35.0</td>\n",
       "      <td>53.1000</td>\n",
       "      <td>0</td>\n",
       "      <td>0</td>\n",
       "      <td>1</td>\n",
       "      <td>0</td>\n",
       "      <td>1</td>\n",
       "      <td>0</td>\n",
       "      <td>0</td>\n",
       "      <td>...</td>\n",
       "      <td>0</td>\n",
       "      <td>0</td>\n",
       "      <td>1</td>\n",
       "      <td>0</td>\n",
       "      <td>0</td>\n",
       "      <td>0</td>\n",
       "      <td>0</td>\n",
       "      <td>0</td>\n",
       "      <td>0</td>\n",
       "      <td>1</td>\n",
       "    </tr>\n",
       "    <tr>\n",
       "      <th>4</th>\n",
       "      <td>0</td>\n",
       "      <td>35.0</td>\n",
       "      <td>8.0500</td>\n",
       "      <td>1</td>\n",
       "      <td>1</td>\n",
       "      <td>0</td>\n",
       "      <td>1</td>\n",
       "      <td>0</td>\n",
       "      <td>0</td>\n",
       "      <td>0</td>\n",
       "      <td>...</td>\n",
       "      <td>1</td>\n",
       "      <td>0</td>\n",
       "      <td>0</td>\n",
       "      <td>0</td>\n",
       "      <td>0</td>\n",
       "      <td>0</td>\n",
       "      <td>0</td>\n",
       "      <td>1</td>\n",
       "      <td>0</td>\n",
       "      <td>1</td>\n",
       "    </tr>\n",
       "  </tbody>\n",
       "</table>\n",
       "<p>5 rows × 30 columns</p>\n",
       "</div>"
      ],
      "text/plain": [
       "   survived   age     fare  adult_male  alone  adult_female  sex_male  \\\n",
       "0         0  22.0   7.2500           1      0             0         1   \n",
       "1         1  38.0  71.2833           0      0             1         0   \n",
       "2         1  26.0   7.9250           0      1             1         0   \n",
       "3         1  35.0  53.1000           0      0             1         0   \n",
       "4         0  35.0   8.0500           1      1             0         1   \n",
       "\n",
       "   sibsp_1  sibsp_2  sibsp_3  ...  class_Third  deck_B  deck_C  deck_D  \\\n",
       "0        1        0        0  ...            1       0       0       0   \n",
       "1        1        0        0  ...            0       0       1       0   \n",
       "2        0        0        0  ...            1       0       0       0   \n",
       "3        1        0        0  ...            0       0       1       0   \n",
       "4        0        0        0  ...            1       0       0       0   \n",
       "\n",
       "   deck_E  deck_F  deck_G  deck_Unknown  embark_town_Queenstown  \\\n",
       "0       0       0       0             1                       0   \n",
       "1       0       0       0             0                       0   \n",
       "2       0       0       0             1                       0   \n",
       "3       0       0       0             0                       0   \n",
       "4       0       0       0             1                       0   \n",
       "\n",
       "   embark_town_Southampton  \n",
       "0                        1  \n",
       "1                        0  \n",
       "2                        1  \n",
       "3                        1  \n",
       "4                        1  \n",
       "\n",
       "[5 rows x 30 columns]"
      ]
     },
     "execution_count": 28,
     "metadata": {},
     "output_type": "execute_result"
    }
   ],
   "source": [
    "df = pd.concat([df, dum], axis=1)\n",
    "df = df.drop(columns=['sex', 'sibsp', 'parch', 'class', 'embark_town', 'deck'])\n",
    "\n",
    "df.head()"
   ]
  },
  {
   "cell_type": "code",
   "execution_count": 29,
   "id": "8d098bf0-59e8-4dc0-accd-a8f3a8c52879",
   "metadata": {},
   "outputs": [
    {
     "data": {
      "text/html": [
       "<div>\n",
       "<style scoped>\n",
       "    .dataframe tbody tr th:only-of-type {\n",
       "        vertical-align: middle;\n",
       "    }\n",
       "\n",
       "    .dataframe tbody tr th {\n",
       "        vertical-align: top;\n",
       "    }\n",
       "\n",
       "    .dataframe thead th {\n",
       "        text-align: right;\n",
       "    }\n",
       "</style>\n",
       "<table border=\"1\" class=\"dataframe\">\n",
       "  <thead>\n",
       "    <tr style=\"text-align: right;\">\n",
       "      <th></th>\n",
       "      <th>survived</th>\n",
       "      <th>age</th>\n",
       "      <th>fare</th>\n",
       "      <th>adult_male</th>\n",
       "      <th>alone</th>\n",
       "      <th>adult_female</th>\n",
       "      <th>sex_male</th>\n",
       "      <th>sibsp_1</th>\n",
       "      <th>sibsp_2</th>\n",
       "      <th>sibsp_3</th>\n",
       "      <th>...</th>\n",
       "      <th>class_Third</th>\n",
       "      <th>deck_B</th>\n",
       "      <th>deck_C</th>\n",
       "      <th>deck_D</th>\n",
       "      <th>deck_E</th>\n",
       "      <th>deck_F</th>\n",
       "      <th>deck_G</th>\n",
       "      <th>deck_Unknown</th>\n",
       "      <th>embark_town_Queenstown</th>\n",
       "      <th>embark_town_Southampton</th>\n",
       "    </tr>\n",
       "  </thead>\n",
       "  <tbody>\n",
       "    <tr>\n",
       "      <th>0</th>\n",
       "      <td>0</td>\n",
       "      <td>22.0</td>\n",
       "      <td>7.2500</td>\n",
       "      <td>1</td>\n",
       "      <td>0</td>\n",
       "      <td>0</td>\n",
       "      <td>1</td>\n",
       "      <td>1</td>\n",
       "      <td>0</td>\n",
       "      <td>0</td>\n",
       "      <td>...</td>\n",
       "      <td>1</td>\n",
       "      <td>0</td>\n",
       "      <td>0</td>\n",
       "      <td>0</td>\n",
       "      <td>0</td>\n",
       "      <td>0</td>\n",
       "      <td>0</td>\n",
       "      <td>1</td>\n",
       "      <td>0</td>\n",
       "      <td>1</td>\n",
       "    </tr>\n",
       "    <tr>\n",
       "      <th>1</th>\n",
       "      <td>1</td>\n",
       "      <td>38.0</td>\n",
       "      <td>71.2833</td>\n",
       "      <td>0</td>\n",
       "      <td>0</td>\n",
       "      <td>1</td>\n",
       "      <td>0</td>\n",
       "      <td>1</td>\n",
       "      <td>0</td>\n",
       "      <td>0</td>\n",
       "      <td>...</td>\n",
       "      <td>0</td>\n",
       "      <td>0</td>\n",
       "      <td>1</td>\n",
       "      <td>0</td>\n",
       "      <td>0</td>\n",
       "      <td>0</td>\n",
       "      <td>0</td>\n",
       "      <td>0</td>\n",
       "      <td>0</td>\n",
       "      <td>0</td>\n",
       "    </tr>\n",
       "    <tr>\n",
       "      <th>2</th>\n",
       "      <td>1</td>\n",
       "      <td>26.0</td>\n",
       "      <td>7.9250</td>\n",
       "      <td>0</td>\n",
       "      <td>1</td>\n",
       "      <td>1</td>\n",
       "      <td>0</td>\n",
       "      <td>0</td>\n",
       "      <td>0</td>\n",
       "      <td>0</td>\n",
       "      <td>...</td>\n",
       "      <td>1</td>\n",
       "      <td>0</td>\n",
       "      <td>0</td>\n",
       "      <td>0</td>\n",
       "      <td>0</td>\n",
       "      <td>0</td>\n",
       "      <td>0</td>\n",
       "      <td>1</td>\n",
       "      <td>0</td>\n",
       "      <td>1</td>\n",
       "    </tr>\n",
       "    <tr>\n",
       "      <th>3</th>\n",
       "      <td>1</td>\n",
       "      <td>35.0</td>\n",
       "      <td>53.1000</td>\n",
       "      <td>0</td>\n",
       "      <td>0</td>\n",
       "      <td>1</td>\n",
       "      <td>0</td>\n",
       "      <td>1</td>\n",
       "      <td>0</td>\n",
       "      <td>0</td>\n",
       "      <td>...</td>\n",
       "      <td>0</td>\n",
       "      <td>0</td>\n",
       "      <td>1</td>\n",
       "      <td>0</td>\n",
       "      <td>0</td>\n",
       "      <td>0</td>\n",
       "      <td>0</td>\n",
       "      <td>0</td>\n",
       "      <td>0</td>\n",
       "      <td>1</td>\n",
       "    </tr>\n",
       "    <tr>\n",
       "      <th>4</th>\n",
       "      <td>0</td>\n",
       "      <td>35.0</td>\n",
       "      <td>8.0500</td>\n",
       "      <td>1</td>\n",
       "      <td>1</td>\n",
       "      <td>0</td>\n",
       "      <td>1</td>\n",
       "      <td>0</td>\n",
       "      <td>0</td>\n",
       "      <td>0</td>\n",
       "      <td>...</td>\n",
       "      <td>1</td>\n",
       "      <td>0</td>\n",
       "      <td>0</td>\n",
       "      <td>0</td>\n",
       "      <td>0</td>\n",
       "      <td>0</td>\n",
       "      <td>0</td>\n",
       "      <td>1</td>\n",
       "      <td>0</td>\n",
       "      <td>1</td>\n",
       "    </tr>\n",
       "  </tbody>\n",
       "</table>\n",
       "<p>5 rows × 30 columns</p>\n",
       "</div>"
      ],
      "text/plain": [
       "   survived   age     fare  adult_male  alone  adult_female  sex_male  \\\n",
       "0         0  22.0   7.2500           1      0             0         1   \n",
       "1         1  38.0  71.2833           0      0             1         0   \n",
       "2         1  26.0   7.9250           0      1             1         0   \n",
       "3         1  35.0  53.1000           0      0             1         0   \n",
       "4         0  35.0   8.0500           1      1             0         1   \n",
       "\n",
       "   sibsp_1  sibsp_2  sibsp_3  ...  class_Third  deck_B  deck_C  deck_D  \\\n",
       "0        1        0        0  ...            1       0       0       0   \n",
       "1        1        0        0  ...            0       0       1       0   \n",
       "2        0        0        0  ...            1       0       0       0   \n",
       "3        1        0        0  ...            0       0       1       0   \n",
       "4        0        0        0  ...            1       0       0       0   \n",
       "\n",
       "   deck_E  deck_F  deck_G  deck_Unknown  embark_town_Queenstown  \\\n",
       "0       0       0       0             1                       0   \n",
       "1       0       0       0             0                       0   \n",
       "2       0       0       0             1                       0   \n",
       "3       0       0       0             0                       0   \n",
       "4       0       0       0             1                       0   \n",
       "\n",
       "   embark_town_Southampton  \n",
       "0                        1  \n",
       "1                        0  \n",
       "2                        1  \n",
       "3                        1  \n",
       "4                        1  \n",
       "\n",
       "[5 rows x 30 columns]"
      ]
     },
     "execution_count": 29,
     "metadata": {},
     "output_type": "execute_result"
    }
   ],
   "source": [
    "df.head()"
   ]
  },
  {
   "cell_type": "markdown",
   "id": "7c97c112-dd74-4e16-a481-83401f246276",
   "metadata": {},
   "source": [
    "### Train-test Split"
   ]
  },
  {
   "cell_type": "code",
   "execution_count": 30,
   "id": "523c45de-98ed-4ab3-9772-f09ea4a479c6",
   "metadata": {},
   "outputs": [],
   "source": [
    "from sklearn.model_selection import train_test_split"
   ]
  },
  {
   "cell_type": "code",
   "execution_count": 31,
   "id": "a357d0a0-692f-4273-8446-222026f44156",
   "metadata": {},
   "outputs": [],
   "source": [
    "X = df.drop('survived', axis=1)\n",
    "y = df['survived']"
   ]
  },
  {
   "cell_type": "code",
   "execution_count": 32,
   "id": "3db738d5-f13f-4da0-965c-e8c7365b5ccc",
   "metadata": {},
   "outputs": [],
   "source": [
    "X_train, X_test, y_train, y_test = train_test_split(X, y, test_size=0.15, random_state=42)"
   ]
  },
  {
   "cell_type": "markdown",
   "id": "4207148e-e836-4f19-8723-bb2b2909b159",
   "metadata": {},
   "source": [
    "### Scaling"
   ]
  },
  {
   "cell_type": "code",
   "execution_count": 33,
   "id": "c0d4e9eb-ed34-46d0-bb84-8f6a3b43bb99",
   "metadata": {},
   "outputs": [],
   "source": [
    "from sklearn.preprocessing import MinMaxScaler"
   ]
  },
  {
   "cell_type": "code",
   "execution_count": 34,
   "id": "9abc474e-eb4f-4056-b87c-c6052f8dbd12",
   "metadata": {},
   "outputs": [],
   "source": [
    "scaler = MinMaxScaler()"
   ]
  },
  {
   "cell_type": "code",
   "execution_count": 35,
   "id": "a760c371-671d-4e7b-a3e4-cba83dd92a2a",
   "metadata": {},
   "outputs": [],
   "source": [
    "scaled_X_train = scaler.fit_transform(X_train)\n",
    "scaled_X_test = scaler.transform(X_test)"
   ]
  },
  {
   "cell_type": "markdown",
   "id": "2a7b232b-d890-4d4d-804c-a0d0e5c4b2ce",
   "metadata": {},
   "source": [
    "### Logistic Regression"
   ]
  },
  {
   "cell_type": "code",
   "execution_count": 36,
   "id": "dff04fb6-f010-4a4b-a26b-09413204a027",
   "metadata": {},
   "outputs": [],
   "source": [
    "from sklearn.linear_model import LogisticRegression"
   ]
  },
  {
   "cell_type": "code",
   "execution_count": 37,
   "id": "1c00309c-185c-4749-9ea5-d30ccb037445",
   "metadata": {},
   "outputs": [],
   "source": [
    "log_model = LogisticRegression()"
   ]
  },
  {
   "cell_type": "code",
   "execution_count": 38,
   "id": "c7d7d264-1a01-4f4f-b308-aab8f3ce7498",
   "metadata": {},
   "outputs": [
    {
     "data": {
      "text/html": [
       "<style>#sk-container-id-1 {color: black;}#sk-container-id-1 pre{padding: 0;}#sk-container-id-1 div.sk-toggleable {background-color: white;}#sk-container-id-1 label.sk-toggleable__label {cursor: pointer;display: block;width: 100%;margin-bottom: 0;padding: 0.3em;box-sizing: border-box;text-align: center;}#sk-container-id-1 label.sk-toggleable__label-arrow:before {content: \"▸\";float: left;margin-right: 0.25em;color: #696969;}#sk-container-id-1 label.sk-toggleable__label-arrow:hover:before {color: black;}#sk-container-id-1 div.sk-estimator:hover label.sk-toggleable__label-arrow:before {color: black;}#sk-container-id-1 div.sk-toggleable__content {max-height: 0;max-width: 0;overflow: hidden;text-align: left;background-color: #f0f8ff;}#sk-container-id-1 div.sk-toggleable__content pre {margin: 0.2em;color: black;border-radius: 0.25em;background-color: #f0f8ff;}#sk-container-id-1 input.sk-toggleable__control:checked~div.sk-toggleable__content {max-height: 200px;max-width: 100%;overflow: auto;}#sk-container-id-1 input.sk-toggleable__control:checked~label.sk-toggleable__label-arrow:before {content: \"▾\";}#sk-container-id-1 div.sk-estimator input.sk-toggleable__control:checked~label.sk-toggleable__label {background-color: #d4ebff;}#sk-container-id-1 div.sk-label input.sk-toggleable__control:checked~label.sk-toggleable__label {background-color: #d4ebff;}#sk-container-id-1 input.sk-hidden--visually {border: 0;clip: rect(1px 1px 1px 1px);clip: rect(1px, 1px, 1px, 1px);height: 1px;margin: -1px;overflow: hidden;padding: 0;position: absolute;width: 1px;}#sk-container-id-1 div.sk-estimator {font-family: monospace;background-color: #f0f8ff;border: 1px dotted black;border-radius: 0.25em;box-sizing: border-box;margin-bottom: 0.5em;}#sk-container-id-1 div.sk-estimator:hover {background-color: #d4ebff;}#sk-container-id-1 div.sk-parallel-item::after {content: \"\";width: 100%;border-bottom: 1px solid gray;flex-grow: 1;}#sk-container-id-1 div.sk-label:hover label.sk-toggleable__label {background-color: #d4ebff;}#sk-container-id-1 div.sk-serial::before {content: \"\";position: absolute;border-left: 1px solid gray;box-sizing: border-box;top: 0;bottom: 0;left: 50%;z-index: 0;}#sk-container-id-1 div.sk-serial {display: flex;flex-direction: column;align-items: center;background-color: white;padding-right: 0.2em;padding-left: 0.2em;position: relative;}#sk-container-id-1 div.sk-item {position: relative;z-index: 1;}#sk-container-id-1 div.sk-parallel {display: flex;align-items: stretch;justify-content: center;background-color: white;position: relative;}#sk-container-id-1 div.sk-item::before, #sk-container-id-1 div.sk-parallel-item::before {content: \"\";position: absolute;border-left: 1px solid gray;box-sizing: border-box;top: 0;bottom: 0;left: 50%;z-index: -1;}#sk-container-id-1 div.sk-parallel-item {display: flex;flex-direction: column;z-index: 1;position: relative;background-color: white;}#sk-container-id-1 div.sk-parallel-item:first-child::after {align-self: flex-end;width: 50%;}#sk-container-id-1 div.sk-parallel-item:last-child::after {align-self: flex-start;width: 50%;}#sk-container-id-1 div.sk-parallel-item:only-child::after {width: 0;}#sk-container-id-1 div.sk-dashed-wrapped {border: 1px dashed gray;margin: 0 0.4em 0.5em 0.4em;box-sizing: border-box;padding-bottom: 0.4em;background-color: white;}#sk-container-id-1 div.sk-label label {font-family: monospace;font-weight: bold;display: inline-block;line-height: 1.2em;}#sk-container-id-1 div.sk-label-container {text-align: center;}#sk-container-id-1 div.sk-container {/* jupyter's `normalize.less` sets `[hidden] { display: none; }` but bootstrap.min.css set `[hidden] { display: none !important; }` so we also need the `!important` here to be able to override the default hidden behavior on the sphinx rendered scikit-learn.org. See: https://github.com/scikit-learn/scikit-learn/issues/21755 */display: inline-block !important;position: relative;}#sk-container-id-1 div.sk-text-repr-fallback {display: none;}</style><div id=\"sk-container-id-1\" class=\"sk-top-container\"><div class=\"sk-text-repr-fallback\"><pre>LogisticRegression()</pre><b>In a Jupyter environment, please rerun this cell to show the HTML representation or trust the notebook. <br />On GitHub, the HTML representation is unable to render, please try loading this page with nbviewer.org.</b></div><div class=\"sk-container\" hidden><div class=\"sk-item\"><div class=\"sk-estimator sk-toggleable\"><input class=\"sk-toggleable__control sk-hidden--visually\" id=\"sk-estimator-id-1\" type=\"checkbox\" checked><label for=\"sk-estimator-id-1\" class=\"sk-toggleable__label sk-toggleable__label-arrow\">LogisticRegression</label><div class=\"sk-toggleable__content\"><pre>LogisticRegression()</pre></div></div></div></div></div>"
      ],
      "text/plain": [
       "LogisticRegression()"
      ]
     },
     "execution_count": 38,
     "metadata": {},
     "output_type": "execute_result"
    }
   ],
   "source": [
    "log_model.fit(scaled_X_train, y_train)"
   ]
  },
  {
   "cell_type": "code",
   "execution_count": 39,
   "id": "8754fc4c-c707-4de2-9cf3-8fad41e2887c",
   "metadata": {},
   "outputs": [],
   "source": [
    "y_predictions = log_model.predict(scaled_X_test)"
   ]
  },
  {
   "cell_type": "markdown",
   "id": "e595f6c5-a6b9-4641-91f0-39acd5f9349f",
   "metadata": {},
   "source": [
    "### Logistic Regression Model Accuracy"
   ]
  },
  {
   "cell_type": "code",
   "execution_count": 40,
   "id": "c55c93fc-af50-45c8-a948-5377f72e5259",
   "metadata": {},
   "outputs": [
    {
     "data": {
      "text/plain": [
       "array([[-1.5573021 ,  0.41599769, -2.02068843,  0.48362129,  0.21260326,\n",
       "        -0.68089254,  0.44228059,  0.25286394, -0.9664694 , -1.31340349,\n",
       "        -0.83004883, -0.86254934,  0.1747322 , -0.00633061,  0.09829927,\n",
       "        -0.78029353, -0.58145178, -0.43269145, -0.12962632, -1.21147942,\n",
       "         0.04813703, -0.05457075,  0.65407675,  0.77817441, -0.10973468,\n",
       "        -0.20547743, -0.75550363, -0.18257964, -0.62986284]])"
      ]
     },
     "execution_count": 40,
     "metadata": {},
     "output_type": "execute_result"
    }
   ],
   "source": [
    "log_model.coef_"
   ]
  },
  {
   "cell_type": "code",
   "execution_count": 41,
   "id": "c05ff216-3029-4946-a437-a780e22b7878",
   "metadata": {},
   "outputs": [],
   "source": [
    "from sklearn.metrics import accuracy_score, confusion_matrix, classification_report, ConfusionMatrixDisplay"
   ]
  },
  {
   "cell_type": "code",
   "execution_count": 42,
   "id": "3bf8cfa0-5b5a-4879-9d91-e252946a0435",
   "metadata": {},
   "outputs": [
    {
     "data": {
      "text/plain": [
       "0.8283582089552238"
      ]
     },
     "execution_count": 42,
     "metadata": {},
     "output_type": "execute_result"
    }
   ],
   "source": [
    "accuracy_score(y_true=y_test, y_pred=y_predictions)"
   ]
  },
  {
   "cell_type": "code",
   "execution_count": 44,
   "id": "d681f38f-26ed-47c0-a85b-2b5ae515babe",
   "metadata": {},
   "outputs": [
    {
     "data": {
      "text/plain": [
       "<sklearn.metrics._plot.confusion_matrix.ConfusionMatrixDisplay at 0x268073550a0>"
      ]
     },
     "execution_count": 44,
     "metadata": {},
     "output_type": "execute_result"
    },
    {
     "data": {
      "image/png": "[encoded data removed]",
      "text/plain": [
       "<Figure size 640x480 with 2 Axes>"
      ]
     },
     "metadata": {},
     "output_type": "display_data"
    }
   ],
   "source": [
    "ConfusionMatrixDisplay.from_estimator(log_model, scaled_X_test, y_test)"
   ]
  },
  {
   "cell_type": "code",
   "execution_count": 45,
   "id": "21016998-8a34-4fd7-9419-82a90b63dcd4",
   "metadata": {},
   "outputs": [
    {
     "name": "stdout",
     "output_type": "stream",
     "text": [
      "              precision    recall  f1-score   support\n",
      "\n",
      "           0       0.89      0.84      0.86        87\n",
      "           1       0.73      0.81      0.77        47\n",
      "\n",
      "    accuracy                           0.83       134\n",
      "   macro avg       0.81      0.82      0.82       134\n",
      "weighted avg       0.83      0.83      0.83       134\n",
      "\n"
     ]
    }
   ],
   "source": [
    "print(classification_report(y_test, y_predictions))"
   ]
  },
  {
   "cell_type": "code",
   "execution_count": 46,
   "id": "f7f177e6-661c-4ddd-94ec-ffbabaf6b841",
   "metadata": {},
   "outputs": [],
   "source": [
    "from sklearn.metrics import RocCurveDisplay"
   ]
  },
  {
   "cell_type": "code",
   "execution_count": 47,
   "id": "d4d5a8a3-d83a-4b2d-91a2-a2fb76e69c93",
   "metadata": {},
   "outputs": [
    {
     "data": {
      "image/png": "[encoded data removed]",
      "text/plain": [
       "<Figure size 1800x1200 with 1 Axes>"
      ]
     },
     "metadata": {},
     "output_type": "display_data"
    }
   ],
   "source": [
    "fig, ax = plt.subplots(figsize=(12,8), dpi=150)\n",
    "RocCurveDisplay.from_estimator(estimator=log_model, X=scaled_X_test, y=y_test, ax=ax)\n",
    "plt.show()"
   ]
  },
  {
   "cell_type": "markdown",
   "id": "2dfce09c-81cd-48c5-9d12-f3e2c2af6f5a",
   "metadata": {},
   "source": [
    "#### Grid Search + Decision Tree Classifier"
   ]
  },
  {
   "cell_type": "code",
   "execution_count": 48,
   "id": "f4f4a23f-e407-449e-b0eb-db2df250c09f",
   "metadata": {},
   "outputs": [],
   "source": [
    "from sklearn.model_selection import GridSearchCV\n",
    "from sklearn.tree import DecisionTreeClassifier"
   ]
  },
  {
   "cell_type": "code",
   "execution_count": 49,
   "id": "48cdd615-3144-43dd-ade1-0115f0e13080",
   "metadata": {},
   "outputs": [],
   "source": [
    "decision_tree_model = DecisionTreeClassifier()"
   ]
  },
  {
   "cell_type": "code",
   "execution_count": 50,
   "id": "81f13f2a-d544-4d7a-9149-f8dcd80b5455",
   "metadata": {},
   "outputs": [],
   "source": [
    "decision_tree_param_grid = {'class_weight':['balanced', None],\n",
    "    'criterion': ['gini', 'entropy'],\n",
    "    'splitter': ['best', 'random'],\n",
    "    'max_depth': [None, 5, 10, 15],\n",
    "    'min_samples_split': [2, 5, 10],\n",
    "    'min_samples_leaf': [1, 2, 3],\n",
    "    'max_features': [None, 'sqrt', 'log2']}"
   ]
  },
  {
   "cell_type": "code",
   "execution_count": 51,
   "id": "b284bef5-9e94-4c83-adf0-787322f31e24",
   "metadata": {},
   "outputs": [],
   "source": [
    "dc_model = GridSearchCV(decision_tree_model, decision_tree_param_grid)"
   ]
  },
  {
   "cell_type": "code",
   "execution_count": 52,
   "id": "cbfe2e5b-3adf-4d0c-a95e-c226d3c51427",
   "metadata": {},
   "outputs": [
    {
     "data": {
      "text/html": [
       "<style>#sk-container-id-2 {color: black;}#sk-container-id-2 pre{padding: 0;}#sk-container-id-2 div.sk-toggleable {background-color: white;}#sk-container-id-2 label.sk-toggleable__label {cursor: pointer;display: block;width: 100%;margin-bottom: 0;padding: 0.3em;box-sizing: border-box;text-align: center;}#sk-container-id-2 label.sk-toggleable__label-arrow:before {content: \"▸\";float: left;margin-right: 0.25em;color: #696969;}#sk-container-id-2 label.sk-toggleable__label-arrow:hover:before {color: black;}#sk-container-id-2 div.sk-estimator:hover label.sk-toggleable__label-arrow:before {color: black;}#sk-container-id-2 div.sk-toggleable__content {max-height: 0;max-width: 0;overflow: hidden;text-align: left;background-color: #f0f8ff;}#sk-container-id-2 div.sk-toggleable__content pre {margin: 0.2em;color: black;border-radius: 0.25em;background-color: #f0f8ff;}#sk-container-id-2 input.sk-toggleable__control:checked~div.sk-toggleable__content {max-height: 200px;max-width: 100%;overflow: auto;}#sk-container-id-2 input.sk-toggleable__control:checked~label.sk-toggleable__label-arrow:before {content: \"▾\";}#sk-container-id-2 div.sk-estimator input.sk-toggleable__control:checked~label.sk-toggleable__label {background-color: #d4ebff;}#sk-container-id-2 div.sk-label input.sk-toggleable__control:checked~label.sk-toggleable__label {background-color: #d4ebff;}#sk-container-id-2 input.sk-hidden--visually {border: 0;clip: rect(1px 1px 1px 1px);clip: rect(1px, 1px, 1px, 1px);height: 1px;margin: -1px;overflow: hidden;padding: 0;position: absolute;width: 1px;}#sk-container-id-2 div.sk-estimator {font-family: monospace;background-color: #f0f8ff;border: 1px dotted black;border-radius: 0.25em;box-sizing: border-box;margin-bottom: 0.5em;}#sk-container-id-2 div.sk-estimator:hover {background-color: #d4ebff;}#sk-container-id-2 div.sk-parallel-item::after {content: \"\";width: 100%;border-bottom: 1px solid gray;flex-grow: 1;}#sk-container-id-2 div.sk-label:hover label.sk-toggleable__label {background-color: #d4ebff;}#sk-container-id-2 div.sk-serial::before {content: \"\";position: absolute;border-left: 1px solid gray;box-sizing: border-box;top: 0;bottom: 0;left: 50%;z-index: 0;}#sk-container-id-2 div.sk-serial {display: flex;flex-direction: column;align-items: center;background-color: white;padding-right: 0.2em;padding-left: 0.2em;position: relative;}#sk-container-id-2 div.sk-item {position: relative;z-index: 1;}#sk-container-id-2 div.sk-parallel {display: flex;align-items: stretch;justify-content: center;background-color: white;position: relative;}#sk-container-id-2 div.sk-item::before, #sk-container-id-2 div.sk-parallel-item::before {content: \"\";position: absolute;border-left: 1px solid gray;box-sizing: border-box;top: 0;bottom: 0;left: 50%;z-index: -1;}#sk-container-id-2 div.sk-parallel-item {display: flex;flex-direction: column;z-index: 1;position: relative;background-color: white;}#sk-container-id-2 div.sk-parallel-item:first-child::after {align-self: flex-end;width: 50%;}#sk-container-id-2 div.sk-parallel-item:last-child::after {align-self: flex-start;width: 50%;}#sk-container-id-2 div.sk-parallel-item:only-child::after {width: 0;}#sk-container-id-2 div.sk-dashed-wrapped {border: 1px dashed gray;margin: 0 0.4em 0.5em 0.4em;box-sizing: border-box;padding-bottom: 0.4em;background-color: white;}#sk-container-id-2 div.sk-label label {font-family: monospace;font-weight: bold;display: inline-block;line-height: 1.2em;}#sk-container-id-2 div.sk-label-container {text-align: center;}#sk-container-id-2 div.sk-container {/* jupyter's `normalize.less` sets `[hidden] { display: none; }` but bootstrap.min.css set `[hidden] { display: none !important; }` so we also need the `!important` here to be able to override the default hidden behavior on the sphinx rendered scikit-learn.org. See: https://github.com/scikit-learn/scikit-learn/issues/21755 */display: inline-block !important;position: relative;}#sk-container-id-2 div.sk-text-repr-fallback {display: none;}</style><div id=\"sk-container-id-2\" class=\"sk-top-container\"><div class=\"sk-text-repr-fallback\"><pre>GridSearchCV(estimator=DecisionTreeClassifier(),\n",
       "             param_grid={&#x27;class_weight&#x27;: [&#x27;balanced&#x27;, None],\n",
       "                         &#x27;criterion&#x27;: [&#x27;gini&#x27;, &#x27;entropy&#x27;],\n",
       "                         &#x27;max_depth&#x27;: [None, 5, 10, 15],\n",
       "                         &#x27;max_features&#x27;: [None, &#x27;sqrt&#x27;, &#x27;log2&#x27;],\n",
       "                         &#x27;min_samples_leaf&#x27;: [1, 2, 3],\n",
       "                         &#x27;min_samples_split&#x27;: [2, 5, 10],\n",
       "                         &#x27;splitter&#x27;: [&#x27;best&#x27;, &#x27;random&#x27;]})</pre><b>In a Jupyter environment, please rerun this cell to show the HTML representation or trust the notebook. <br />On GitHub, the HTML representation is unable to render, please try loading this page with nbviewer.org.</b></div><div class=\"sk-container\" hidden><div class=\"sk-item sk-dashed-wrapped\"><div class=\"sk-label-container\"><div class=\"sk-label sk-toggleable\"><input class=\"sk-toggleable__control sk-hidden--visually\" id=\"sk-estimator-id-2\" type=\"checkbox\" ><label for=\"sk-estimator-id-2\" class=\"sk-toggleable__label sk-toggleable__label-arrow\">GridSearchCV</label><div class=\"sk-toggleable__content\"><pre>GridSearchCV(estimator=DecisionTreeClassifier(),\n",
       "             param_grid={&#x27;class_weight&#x27;: [&#x27;balanced&#x27;, None],\n",
       "                         &#x27;criterion&#x27;: [&#x27;gini&#x27;, &#x27;entropy&#x27;],\n",
       "                         &#x27;max_depth&#x27;: [None, 5, 10, 15],\n",
       "                         &#x27;max_features&#x27;: [None, &#x27;sqrt&#x27;, &#x27;log2&#x27;],\n",
       "                         &#x27;min_samples_leaf&#x27;: [1, 2, 3],\n",
       "                         &#x27;min_samples_split&#x27;: [2, 5, 10],\n",
       "                         &#x27;splitter&#x27;: [&#x27;best&#x27;, &#x27;random&#x27;]})</pre></div></div></div><div class=\"sk-parallel\"><div class=\"sk-parallel-item\"><div class=\"sk-item\"><div class=\"sk-label-container\"><div class=\"sk-label sk-toggleable\"><input class=\"sk-toggleable__control sk-hidden--visually\" id=\"sk-estimator-id-3\" type=\"checkbox\" ><label for=\"sk-estimator-id-3\" class=\"sk-toggleable__label sk-toggleable__label-arrow\">estimator: DecisionTreeClassifier</label><div class=\"sk-toggleable__content\"><pre>DecisionTreeClassifier()</pre></div></div></div><div class=\"sk-serial\"><div class=\"sk-item\"><div class=\"sk-estimator sk-toggleable\"><input class=\"sk-toggleable__control sk-hidden--visually\" id=\"sk-estimator-id-4\" type=\"checkbox\" ><label for=\"sk-estimator-id-4\" class=\"sk-toggleable__label sk-toggleable__label-arrow\">DecisionTreeClassifier</label><div class=\"sk-toggleable__content\"><pre>DecisionTreeClassifier()</pre></div></div></div></div></div></div></div></div></div></div>"
      ],
      "text/plain": [
       "GridSearchCV(estimator=DecisionTreeClassifier(),\n",
       "             param_grid={'class_weight': ['balanced', None],\n",
       "                         'criterion': ['gini', 'entropy'],\n",
       "                         'max_depth': [None, 5, 10, 15],\n",
       "                         'max_features': [None, 'sqrt', 'log2'],\n",
       "                         'min_samples_leaf': [1, 2, 3],\n",
       "                         'min_samples_split': [2, 5, 10],\n",
       "                         'splitter': ['best', 'random']})"
      ]
     },
     "execution_count": 52,
     "metadata": {},
     "output_type": "execute_result"
    }
   ],
   "source": [
    "dc_model.fit(X_train, y_train)"
   ]
  },
  {
   "cell_type": "code",
   "execution_count": 53,
   "id": "890d686f-efda-4624-a395-2ce189555f93",
   "metadata": {},
   "outputs": [],
   "source": [
    "dc_predictions = dc_model.predict(X_test)"
   ]
  },
  {
   "cell_type": "code",
   "execution_count": 54,
   "id": "a458e465-3dc9-4590-8c2a-50496487b983",
   "metadata": {},
   "outputs": [
    {
     "name": "stdout",
     "output_type": "stream",
     "text": [
      "              precision    recall  f1-score   support\n",
      "\n",
      "           0       0.88      0.80      0.84        87\n",
      "           1       0.69      0.79      0.73        47\n",
      "\n",
      "    accuracy                           0.80       134\n",
      "   macro avg       0.78      0.80      0.79       134\n",
      "weighted avg       0.81      0.80      0.80       134\n",
      "\n"
     ]
    }
   ],
   "source": [
    "print(classification_report(y_test, dc_predictions))"
   ]
  },
  {
   "cell_type": "code",
   "execution_count": 55,
   "id": "609b6e94-d962-4bab-bc50-e921f74edae0",
   "metadata": {},
   "outputs": [
    {
     "data": {
      "text/plain": [
       "<sklearn.metrics._plot.confusion_matrix.ConfusionMatrixDisplay at 0x2680743a340>"
      ]
     },
     "execution_count": 55,
     "metadata": {},
     "output_type": "execute_result"
    },
    {
     "data": {
      "image/png": "[encoded data removed]",
      "text/plain": [
       "<Figure size 640x480 with 2 Axes>"
      ]
     },
     "metadata": {},
     "output_type": "display_data"
    }
   ],
   "source": [
    "ConfusionMatrixDisplay.from_estimator(dc_model, X_test, y_test)"
   ]
  },
  {
   "cell_type": "markdown",
   "id": "cb3c0a9c-424c-4ff0-b7ad-36fdf7467250",
   "metadata": {},
   "source": [
    "No improvement in performance with DecisionTreeClassifier"
   ]
  },
  {
   "cell_type": "code",
   "execution_count": 56,
   "id": "abe9154f-99c4-45ac-93f6-2614e4a032df",
   "metadata": {},
   "outputs": [
    {
     "data": {
      "text/html": [
       "<div>\n",
       "<style scoped>\n",
       "    .dataframe tbody tr th:only-of-type {\n",
       "        vertical-align: middle;\n",
       "    }\n",
       "\n",
       "    .dataframe tbody tr th {\n",
       "        vertical-align: top;\n",
       "    }\n",
       "\n",
       "    .dataframe thead th {\n",
       "        text-align: right;\n",
       "    }\n",
       "</style>\n",
       "<table border=\"1\" class=\"dataframe\">\n",
       "  <thead>\n",
       "    <tr style=\"text-align: right;\">\n",
       "      <th></th>\n",
       "      <th>Feature</th>\n",
       "      <th>Feature Importance</th>\n",
       "    </tr>\n",
       "  </thead>\n",
       "  <tbody>\n",
       "    <tr>\n",
       "      <th>0</th>\n",
       "      <td>parch_3</td>\n",
       "      <td>0.000000</td>\n",
       "    </tr>\n",
       "    <tr>\n",
       "      <th>1</th>\n",
       "      <td>parch_6</td>\n",
       "      <td>0.000000</td>\n",
       "    </tr>\n",
       "    <tr>\n",
       "      <th>2</th>\n",
       "      <td>parch_5</td>\n",
       "      <td>0.000000</td>\n",
       "    </tr>\n",
       "    <tr>\n",
       "      <th>3</th>\n",
       "      <td>parch_4</td>\n",
       "      <td>0.000000</td>\n",
       "    </tr>\n",
       "    <tr>\n",
       "      <th>4</th>\n",
       "      <td>sibsp_8</td>\n",
       "      <td>0.000000</td>\n",
       "    </tr>\n",
       "    <tr>\n",
       "      <th>5</th>\n",
       "      <td>sibsp_5</td>\n",
       "      <td>0.000000</td>\n",
       "    </tr>\n",
       "    <tr>\n",
       "      <th>6</th>\n",
       "      <td>deck_G</td>\n",
       "      <td>0.000000</td>\n",
       "    </tr>\n",
       "    <tr>\n",
       "      <th>7</th>\n",
       "      <td>sex_male</td>\n",
       "      <td>0.000000</td>\n",
       "    </tr>\n",
       "    <tr>\n",
       "      <th>8</th>\n",
       "      <td>embark_town_Queenstown</td>\n",
       "      <td>0.001060</td>\n",
       "    </tr>\n",
       "    <tr>\n",
       "      <th>9</th>\n",
       "      <td>class_Second</td>\n",
       "      <td>0.001876</td>\n",
       "    </tr>\n",
       "    <tr>\n",
       "      <th>10</th>\n",
       "      <td>deck_E</td>\n",
       "      <td>0.003954</td>\n",
       "    </tr>\n",
       "    <tr>\n",
       "      <th>11</th>\n",
       "      <td>deck_D</td>\n",
       "      <td>0.004623</td>\n",
       "    </tr>\n",
       "    <tr>\n",
       "      <th>12</th>\n",
       "      <td>parch_2</td>\n",
       "      <td>0.005615</td>\n",
       "    </tr>\n",
       "    <tr>\n",
       "      <th>13</th>\n",
       "      <td>deck_C</td>\n",
       "      <td>0.005655</td>\n",
       "    </tr>\n",
       "    <tr>\n",
       "      <th>14</th>\n",
       "      <td>deck_B</td>\n",
       "      <td>0.005987</td>\n",
       "    </tr>\n",
       "    <tr>\n",
       "      <th>15</th>\n",
       "      <td>sibsp_2</td>\n",
       "      <td>0.009649</td>\n",
       "    </tr>\n",
       "    <tr>\n",
       "      <th>16</th>\n",
       "      <td>deck_F</td>\n",
       "      <td>0.010262</td>\n",
       "    </tr>\n",
       "    <tr>\n",
       "      <th>17</th>\n",
       "      <td>sibsp_3</td>\n",
       "      <td>0.010813</td>\n",
       "    </tr>\n",
       "    <tr>\n",
       "      <th>18</th>\n",
       "      <td>alone</td>\n",
       "      <td>0.011386</td>\n",
       "    </tr>\n",
       "    <tr>\n",
       "      <th>19</th>\n",
       "      <td>adult_female</td>\n",
       "      <td>0.012955</td>\n",
       "    </tr>\n",
       "    <tr>\n",
       "      <th>20</th>\n",
       "      <td>sibsp_1</td>\n",
       "      <td>0.014722</td>\n",
       "    </tr>\n",
       "    <tr>\n",
       "      <th>21</th>\n",
       "      <td>sibsp_4</td>\n",
       "      <td>0.019231</td>\n",
       "    </tr>\n",
       "    <tr>\n",
       "      <th>22</th>\n",
       "      <td>age</td>\n",
       "      <td>0.038789</td>\n",
       "    </tr>\n",
       "    <tr>\n",
       "      <th>23</th>\n",
       "      <td>parch_1</td>\n",
       "      <td>0.041486</td>\n",
       "    </tr>\n",
       "    <tr>\n",
       "      <th>24</th>\n",
       "      <td>embark_town_Southampton</td>\n",
       "      <td>0.052765</td>\n",
       "    </tr>\n",
       "    <tr>\n",
       "      <th>25</th>\n",
       "      <td>deck_Unknown</td>\n",
       "      <td>0.059533</td>\n",
       "    </tr>\n",
       "    <tr>\n",
       "      <th>26</th>\n",
       "      <td>fare</td>\n",
       "      <td>0.092291</td>\n",
       "    </tr>\n",
       "    <tr>\n",
       "      <th>27</th>\n",
       "      <td>class_Third</td>\n",
       "      <td>0.164518</td>\n",
       "    </tr>\n",
       "    <tr>\n",
       "      <th>28</th>\n",
       "      <td>adult_male</td>\n",
       "      <td>0.432829</td>\n",
       "    </tr>\n",
       "  </tbody>\n",
       "</table>\n",
       "</div>"
      ],
      "text/plain": [
       "                    Feature  Feature Importance\n",
       "0                   parch_3            0.000000\n",
       "1                   parch_6            0.000000\n",
       "2                   parch_5            0.000000\n",
       "3                   parch_4            0.000000\n",
       "4                   sibsp_8            0.000000\n",
       "5                   sibsp_5            0.000000\n",
       "6                    deck_G            0.000000\n",
       "7                  sex_male            0.000000\n",
       "8    embark_town_Queenstown            0.001060\n",
       "9              class_Second            0.001876\n",
       "10                   deck_E            0.003954\n",
       "11                   deck_D            0.004623\n",
       "12                  parch_2            0.005615\n",
       "13                   deck_C            0.005655\n",
       "14                   deck_B            0.005987\n",
       "15                  sibsp_2            0.009649\n",
       "16                   deck_F            0.010262\n",
       "17                  sibsp_3            0.010813\n",
       "18                    alone            0.011386\n",
       "19             adult_female            0.012955\n",
       "20                  sibsp_1            0.014722\n",
       "21                  sibsp_4            0.019231\n",
       "22                      age            0.038789\n",
       "23                  parch_1            0.041486\n",
       "24  embark_town_Southampton            0.052765\n",
       "25             deck_Unknown            0.059533\n",
       "26                     fare            0.092291\n",
       "27              class_Third            0.164518\n",
       "28               adult_male            0.432829"
      ]
     },
     "execution_count": 56,
     "metadata": {},
     "output_type": "execute_result"
    }
   ],
   "source": [
    "feat_array = dc_model.best_estimator_.feature_importances_\n",
    "dc_feat_importances = pd.Series(data=feat_array, index=X.columns)\n",
    "dc_feat_importances = dc_feat_importances.sort_values()\n",
    "dc_feat_importances = dc_feat_importances.to_frame()\n",
    "dc_feat_importances.index.name = 'Feature'\n",
    "dc_feat_importances.columns = ['Feature Importance']\n",
    "dc_feat_importances = dc_feat_importances.reset_index()\n",
    "\n",
    "dc_feat_importances"
   ]
  },
  {
   "cell_type": "markdown",
   "id": "1c2c90bc-236c-4190-aa94-89986d695ec5",
   "metadata": {},
   "source": [
    "However, it seems that being an adult male clearly is by far the best predictor to determine one's survival"
   ]
  },
  {
   "cell_type": "markdown",
   "id": "b64ec107-4068-4285-8b4a-6a354948bc71",
   "metadata": {},
   "source": [
    "### Random Forest Prediction"
   ]
  },
  {
   "cell_type": "code",
   "execution_count": 57,
   "id": "a92eae6a-46b5-4e04-93d7-2954aef26aa7",
   "metadata": {},
   "outputs": [],
   "source": [
    "from sklearn.ensemble import RandomForestClassifier"
   ]
  },
  {
   "cell_type": "code",
   "execution_count": 58,
   "id": "852baf82-8fd2-438b-b447-4aff483458c2",
   "metadata": {},
   "outputs": [],
   "source": [
    "rf_param_grid = {\n",
    "    'n_estimators': [64, 100, 150, 200],\n",
    "    'max_features':[2, 3, 4, 5],\n",
    "    'bootstrap': [True, False],  \n",
    "    'oob_score': [True, False]\n",
    "}"
   ]
  },
  {
   "cell_type": "code",
   "execution_count": 59,
   "id": "e9467afd-8799-4767-8474-c2443bec4e25",
   "metadata": {},
   "outputs": [],
   "source": [
    "rfc_base = RandomForestClassifier()"
   ]
  },
  {
   "cell_type": "code",
   "execution_count": 60,
   "id": "d0ec6cc5-ca41-4167-88c1-7de70d65eda9",
   "metadata": {},
   "outputs": [],
   "source": [
    "rf_grid_model = GridSearchCV(rfc_base, rf_param_grid, verbose=1)"
   ]
  },
  {
   "cell_type": "code",
   "execution_count": 61,
   "id": "1514cc77-03b7-4f61-a8c3-8fdb1c16053b",
   "metadata": {},
   "outputs": [
    {
     "name": "stdout",
     "output_type": "stream",
     "text": [
      "Fitting 5 folds for each of 64 candidates, totalling 320 fits\n"
     ]
    },
    {
     "data": {
      "text/html": [
       "<style>#sk-container-id-3 {color: black;}#sk-container-id-3 pre{padding: 0;}#sk-container-id-3 div.sk-toggleable {background-color: white;}#sk-container-id-3 label.sk-toggleable__label {cursor: pointer;display: block;width: 100%;margin-bottom: 0;padding: 0.3em;box-sizing: border-box;text-align: center;}#sk-container-id-3 label.sk-toggleable__label-arrow:before {content: \"▸\";float: left;margin-right: 0.25em;color: #696969;}#sk-container-id-3 label.sk-toggleable__label-arrow:hover:before {color: black;}#sk-container-id-3 div.sk-estimator:hover label.sk-toggleable__label-arrow:before {color: black;}#sk-container-id-3 div.sk-toggleable__content {max-height: 0;max-width: 0;overflow: hidden;text-align: left;background-color: #f0f8ff;}#sk-container-id-3 div.sk-toggleable__content pre {margin: 0.2em;color: black;border-radius: 0.25em;background-color: #f0f8ff;}#sk-container-id-3 input.sk-toggleable__control:checked~div.sk-toggleable__content {max-height: 200px;max-width: 100%;overflow: auto;}#sk-container-id-3 input.sk-toggleable__control:checked~label.sk-toggleable__label-arrow:before {content: \"▾\";}#sk-container-id-3 div.sk-estimator input.sk-toggleable__control:checked~label.sk-toggleable__label {background-color: #d4ebff;}#sk-container-id-3 div.sk-label input.sk-toggleable__control:checked~label.sk-toggleable__label {background-color: #d4ebff;}#sk-container-id-3 input.sk-hidden--visually {border: 0;clip: rect(1px 1px 1px 1px);clip: rect(1px, 1px, 1px, 1px);height: 1px;margin: -1px;overflow: hidden;padding: 0;position: absolute;width: 1px;}#sk-container-id-3 div.sk-estimator {font-family: monospace;background-color: #f0f8ff;border: 1px dotted black;border-radius: 0.25em;box-sizing: border-box;margin-bottom: 0.5em;}#sk-container-id-3 div.sk-estimator:hover {background-color: #d4ebff;}#sk-container-id-3 div.sk-parallel-item::after {content: \"\";width: 100%;border-bottom: 1px solid gray;flex-grow: 1;}#sk-container-id-3 div.sk-label:hover label.sk-toggleable__label {background-color: #d4ebff;}#sk-container-id-3 div.sk-serial::before {content: \"\";position: absolute;border-left: 1px solid gray;box-sizing: border-box;top: 0;bottom: 0;left: 50%;z-index: 0;}#sk-container-id-3 div.sk-serial {display: flex;flex-direction: column;align-items: center;background-color: white;padding-right: 0.2em;padding-left: 0.2em;position: relative;}#sk-container-id-3 div.sk-item {position: relative;z-index: 1;}#sk-container-id-3 div.sk-parallel {display: flex;align-items: stretch;justify-content: center;background-color: white;position: relative;}#sk-container-id-3 div.sk-item::before, #sk-container-id-3 div.sk-parallel-item::before {content: \"\";position: absolute;border-left: 1px solid gray;box-sizing: border-box;top: 0;bottom: 0;left: 50%;z-index: -1;}#sk-container-id-3 div.sk-parallel-item {display: flex;flex-direction: column;z-index: 1;position: relative;background-color: white;}#sk-container-id-3 div.sk-parallel-item:first-child::after {align-self: flex-end;width: 50%;}#sk-container-id-3 div.sk-parallel-item:last-child::after {align-self: flex-start;width: 50%;}#sk-container-id-3 div.sk-parallel-item:only-child::after {width: 0;}#sk-container-id-3 div.sk-dashed-wrapped {border: 1px dashed gray;margin: 0 0.4em 0.5em 0.4em;box-sizing: border-box;padding-bottom: 0.4em;background-color: white;}#sk-container-id-3 div.sk-label label {font-family: monospace;font-weight: bold;display: inline-block;line-height: 1.2em;}#sk-container-id-3 div.sk-label-container {text-align: center;}#sk-container-id-3 div.sk-container {/* jupyter's `normalize.less` sets `[hidden] { display: none; }` but bootstrap.min.css set `[hidden] { display: none !important; }` so we also need the `!important` here to be able to override the default hidden behavior on the sphinx rendered scikit-learn.org. See: https://github.com/scikit-learn/scikit-learn/issues/21755 */display: inline-block !important;position: relative;}#sk-container-id-3 div.sk-text-repr-fallback {display: none;}</style><div id=\"sk-container-id-3\" class=\"sk-top-container\"><div class=\"sk-text-repr-fallback\"><pre>GridSearchCV(estimator=RandomForestClassifier(),\n",
       "             param_grid={&#x27;bootstrap&#x27;: [True, False],\n",
       "                         &#x27;max_features&#x27;: [2, 3, 4, 5],\n",
       "                         &#x27;n_estimators&#x27;: [64, 100, 150, 200],\n",
       "                         &#x27;oob_score&#x27;: [True, False]},\n",
       "             verbose=1)</pre><b>In a Jupyter environment, please rerun this cell to show the HTML representation or trust the notebook. <br />On GitHub, the HTML representation is unable to render, please try loading this page with nbviewer.org.</b></div><div class=\"sk-container\" hidden><div class=\"sk-item sk-dashed-wrapped\"><div class=\"sk-label-container\"><div class=\"sk-label sk-toggleable\"><input class=\"sk-toggleable__control sk-hidden--visually\" id=\"sk-estimator-id-5\" type=\"checkbox\" ><label for=\"sk-estimator-id-5\" class=\"sk-toggleable__label sk-toggleable__label-arrow\">GridSearchCV</label><div class=\"sk-toggleable__content\"><pre>GridSearchCV(estimator=RandomForestClassifier(),\n",
       "             param_grid={&#x27;bootstrap&#x27;: [True, False],\n",
       "                         &#x27;max_features&#x27;: [2, 3, 4, 5],\n",
       "                         &#x27;n_estimators&#x27;: [64, 100, 150, 200],\n",
       "                         &#x27;oob_score&#x27;: [True, False]},\n",
       "             verbose=1)</pre></div></div></div><div class=\"sk-parallel\"><div class=\"sk-parallel-item\"><div class=\"sk-item\"><div class=\"sk-label-container\"><div class=\"sk-label sk-toggleable\"><input class=\"sk-toggleable__control sk-hidden--visually\" id=\"sk-estimator-id-6\" type=\"checkbox\" ><label for=\"sk-estimator-id-6\" class=\"sk-toggleable__label sk-toggleable__label-arrow\">estimator: RandomForestClassifier</label><div class=\"sk-toggleable__content\"><pre>RandomForestClassifier()</pre></div></div></div><div class=\"sk-serial\"><div class=\"sk-item\"><div class=\"sk-estimator sk-toggleable\"><input class=\"sk-toggleable__control sk-hidden--visually\" id=\"sk-estimator-id-7\" type=\"checkbox\" ><label for=\"sk-estimator-id-7\" class=\"sk-toggleable__label sk-toggleable__label-arrow\">RandomForestClassifier</label><div class=\"sk-toggleable__content\"><pre>RandomForestClassifier()</pre></div></div></div></div></div></div></div></div></div></div>"
      ],
      "text/plain": [
       "GridSearchCV(estimator=RandomForestClassifier(),\n",
       "             param_grid={'bootstrap': [True, False],\n",
       "                         'max_features': [2, 3, 4, 5],\n",
       "                         'n_estimators': [64, 100, 150, 200],\n",
       "                         'oob_score': [True, False]},\n",
       "             verbose=1)"
      ]
     },
     "execution_count": 61,
     "metadata": {},
     "output_type": "execute_result"
    }
   ],
   "source": [
    "# This code will cause some warnings because of the GridSearch so we can ignore them\n",
    "import warnings\n",
    "warnings.filterwarnings('ignore')\n",
    "\n",
    "rf_grid_model.fit(X_train, y_train)"
   ]
  },
  {
   "cell_type": "code",
   "execution_count": 62,
   "id": "f2a05990-ebec-4e0f-a37f-8a9e768a6065",
   "metadata": {},
   "outputs": [
    {
     "data": {
      "text/html": [
       "<style>#sk-container-id-4 {color: black;}#sk-container-id-4 pre{padding: 0;}#sk-container-id-4 div.sk-toggleable {background-color: white;}#sk-container-id-4 label.sk-toggleable__label {cursor: pointer;display: block;width: 100%;margin-bottom: 0;padding: 0.3em;box-sizing: border-box;text-align: center;}#sk-container-id-4 label.sk-toggleable__label-arrow:before {content: \"▸\";float: left;margin-right: 0.25em;color: #696969;}#sk-container-id-4 label.sk-toggleable__label-arrow:hover:before {color: black;}#sk-container-id-4 div.sk-estimator:hover label.sk-toggleable__label-arrow:before {color: black;}#sk-container-id-4 div.sk-toggleable__content {max-height: 0;max-width: 0;overflow: hidden;text-align: left;background-color: #f0f8ff;}#sk-container-id-4 div.sk-toggleable__content pre {margin: 0.2em;color: black;border-radius: 0.25em;background-color: #f0f8ff;}#sk-container-id-4 input.sk-toggleable__control:checked~div.sk-toggleable__content {max-height: 200px;max-width: 100%;overflow: auto;}#sk-container-id-4 input.sk-toggleable__control:checked~label.sk-toggleable__label-arrow:before {content: \"▾\";}#sk-container-id-4 div.sk-estimator input.sk-toggleable__control:checked~label.sk-toggleable__label {background-color: #d4ebff;}#sk-container-id-4 div.sk-label input.sk-toggleable__control:checked~label.sk-toggleable__label {background-color: #d4ebff;}#sk-container-id-4 input.sk-hidden--visually {border: 0;clip: rect(1px 1px 1px 1px);clip: rect(1px, 1px, 1px, 1px);height: 1px;margin: -1px;overflow: hidden;padding: 0;position: absolute;width: 1px;}#sk-container-id-4 div.sk-estimator {font-family: monospace;background-color: #f0f8ff;border: 1px dotted black;border-radius: 0.25em;box-sizing: border-box;margin-bottom: 0.5em;}#sk-container-id-4 div.sk-estimator:hover {background-color: #d4ebff;}#sk-container-id-4 div.sk-parallel-item::after {content: \"\";width: 100%;border-bottom: 1px solid gray;flex-grow: 1;}#sk-container-id-4 div.sk-label:hover label.sk-toggleable__label {background-color: #d4ebff;}#sk-container-id-4 div.sk-serial::before {content: \"\";position: absolute;border-left: 1px solid gray;box-sizing: border-box;top: 0;bottom: 0;left: 50%;z-index: 0;}#sk-container-id-4 div.sk-serial {display: flex;flex-direction: column;align-items: center;background-color: white;padding-right: 0.2em;padding-left: 0.2em;position: relative;}#sk-container-id-4 div.sk-item {position: relative;z-index: 1;}#sk-container-id-4 div.sk-parallel {display: flex;align-items: stretch;justify-content: center;background-color: white;position: relative;}#sk-container-id-4 div.sk-item::before, #sk-container-id-4 div.sk-parallel-item::before {content: \"\";position: absolute;border-left: 1px solid gray;box-sizing: border-box;top: 0;bottom: 0;left: 50%;z-index: -1;}#sk-container-id-4 div.sk-parallel-item {display: flex;flex-direction: column;z-index: 1;position: relative;background-color: white;}#sk-container-id-4 div.sk-parallel-item:first-child::after {align-self: flex-end;width: 50%;}#sk-container-id-4 div.sk-parallel-item:last-child::after {align-self: flex-start;width: 50%;}#sk-container-id-4 div.sk-parallel-item:only-child::after {width: 0;}#sk-container-id-4 div.sk-dashed-wrapped {border: 1px dashed gray;margin: 0 0.4em 0.5em 0.4em;box-sizing: border-box;padding-bottom: 0.4em;background-color: white;}#sk-container-id-4 div.sk-label label {font-family: monospace;font-weight: bold;display: inline-block;line-height: 1.2em;}#sk-container-id-4 div.sk-label-container {text-align: center;}#sk-container-id-4 div.sk-container {/* jupyter's `normalize.less` sets `[hidden] { display: none; }` but bootstrap.min.css set `[hidden] { display: none !important; }` so we also need the `!important` here to be able to override the default hidden behavior on the sphinx rendered scikit-learn.org. See: https://github.com/scikit-learn/scikit-learn/issues/21755 */display: inline-block !important;position: relative;}#sk-container-id-4 div.sk-text-repr-fallback {display: none;}</style><div id=\"sk-container-id-4\" class=\"sk-top-container\"><div class=\"sk-text-repr-fallback\"><pre>RandomForestClassifier(max_features=5, n_estimators=64, oob_score=True)</pre><b>In a Jupyter environment, please rerun this cell to show the HTML representation or trust the notebook. <br />On GitHub, the HTML representation is unable to render, please try loading this page with nbviewer.org.</b></div><div class=\"sk-container\" hidden><div class=\"sk-item\"><div class=\"sk-estimator sk-toggleable\"><input class=\"sk-toggleable__control sk-hidden--visually\" id=\"sk-estimator-id-8\" type=\"checkbox\" checked><label for=\"sk-estimator-id-8\" class=\"sk-toggleable__label sk-toggleable__label-arrow\">RandomForestClassifier</label><div class=\"sk-toggleable__content\"><pre>RandomForestClassifier(max_features=5, n_estimators=64, oob_score=True)</pre></div></div></div></div></div>"
      ],
      "text/plain": [
       "RandomForestClassifier(max_features=5, n_estimators=64, oob_score=True)"
      ]
     },
     "execution_count": 62,
     "metadata": {},
     "output_type": "execute_result"
    }
   ],
   "source": [
    "rf_grid_model.best_estimator_"
   ]
  },
  {
   "cell_type": "code",
   "execution_count": 63,
   "id": "89699095-eeeb-4dd9-8733-93cdbb71977c",
   "metadata": {},
   "outputs": [],
   "source": [
    "rfc_predictions = rf_grid_model.predict(X_test)"
   ]
  },
  {
   "cell_type": "code",
   "execution_count": 64,
   "id": "e321b38f-6cd9-4af4-950c-b35479f3ce75",
   "metadata": {},
   "outputs": [
    {
     "name": "stdout",
     "output_type": "stream",
     "text": [
      "              precision    recall  f1-score   support\n",
      "\n",
      "           0       0.85      0.82      0.83        87\n",
      "           1       0.68      0.72      0.70        47\n",
      "\n",
      "    accuracy                           0.78       134\n",
      "   macro avg       0.76      0.77      0.77       134\n",
      "weighted avg       0.79      0.78      0.79       134\n",
      "\n"
     ]
    }
   ],
   "source": [
    "print(classification_report(y_test, rfc_predictions))"
   ]
  },
  {
   "cell_type": "code",
   "execution_count": 65,
   "id": "d08a4d2a-7dd1-4c42-af6f-499825255411",
   "metadata": {},
   "outputs": [
    {
     "data": {
      "text/plain": [
       "<sklearn.metrics._plot.confusion_matrix.ConfusionMatrixDisplay at 0x2680dd610d0>"
      ]
     },
     "execution_count": 65,
     "metadata": {},
     "output_type": "execute_result"
    },
    {
     "data": {
      "image/png": "[encoded data removed]",
      "text/plain": [
       "<Figure size 640x480 with 2 Axes>"
      ]
     },
     "metadata": {},
     "output_type": "display_data"
    }
   ],
   "source": [
    "ConfusionMatrixDisplay.from_estimator(rf_grid_model, X_test, y_test)"
   ]
  },
  {
   "cell_type": "markdown",
   "id": "e067678e-e970-4de3-b403-cb9c58cf7041",
   "metadata": {},
   "source": [
    "### Using Boosted Trees"
   ]
  },
  {
   "cell_type": "code",
   "execution_count": 66,
   "id": "31bd4183-88da-4a90-9a91-148fd7abff42",
   "metadata": {},
   "outputs": [],
   "source": [
    "from sklearn.ensemble import GradientBoostingClassifier"
   ]
  },
  {
   "cell_type": "code",
   "execution_count": 67,
   "id": "7bc5e910-76bc-4407-8871-9ac600c8aeda",
   "metadata": {},
   "outputs": [],
   "source": [
    "gbc_model = GradientBoostingClassifier()"
   ]
  },
  {
   "cell_type": "code",
   "execution_count": 68,
   "id": "cdf0cd7f-4fa3-4dc5-9f8b-c66a35ab14f1",
   "metadata": {},
   "outputs": [],
   "source": [
    "gbc_parameter_grid = {\n",
    "    'n_estimators': [50, 100, 150],  # Number of boosting stages\n",
    "    'learning_rate': [0.01, 0.05, 0.1, 0.2],  # Learning rate (shrinkage) of each tree\n",
    "    'max_depth': [3, 4, 5],  # Maximum depth of each tree\n",
    "}"
   ]
  },
  {
   "cell_type": "code",
   "execution_count": 69,
   "id": "441dcd51-0318-444c-a9cc-1f6319a9440b",
   "metadata": {},
   "outputs": [],
   "source": [
    "gbc_grid_model = GridSearchCV(gbc_model, gbc_parameter_grid, verbose=10)"
   ]
  },
  {
   "cell_type": "code",
   "execution_count": 70,
   "id": "bbf3fc99-3d1b-46dd-b7f1-9a620d12abbf",
   "metadata": {},
   "outputs": [
    {
     "name": "stdout",
     "output_type": "stream",
     "text": [
      "Fitting 5 folds for each of 36 candidates, totalling 180 fits\n",
      "[CV 1/5; 1/36] START learning_rate=0.01, max_depth=3, n_estimators=50...........\n",
      "[CV 1/5; 1/36] END learning_rate=0.01, max_depth=3, n_estimators=50;, score=0.781 total time=   0.0s\n",
      "[CV 2/5; 1/36] START learning_rate=0.01, max_depth=3, n_estimators=50...........\n",
      "[CV 2/5; 1/36] END learning_rate=0.01, max_depth=3, n_estimators=50;, score=0.781 total time=   0.0s\n",
      "[CV 3/5; 1/36] START learning_rate=0.01, max_depth=3, n_estimators=50...........\n",
      "[CV 3/5; 1/36] END learning_rate=0.01, max_depth=3, n_estimators=50;, score=0.828 total time=   0.0s\n",
      "[CV 4/5; 1/36] START learning_rate=0.01, max_depth=3, n_estimators=50...........\n",
      "[CV 4/5; 1/36] END learning_rate=0.01, max_depth=3, n_estimators=50;, score=0.781 total time=   0.0s\n",
      "[CV 5/5; 1/36] START learning_rate=0.01, max_depth=3, n_estimators=50...........\n",
      "[CV 5/5; 1/36] END learning_rate=0.01, max_depth=3, n_estimators=50;, score=0.795 total time=   0.0s\n",
      "[CV 1/5; 2/36] START learning_rate=0.01, max_depth=3, n_estimators=100..........\n",
      "[CV 1/5; 2/36] END learning_rate=0.01, max_depth=3, n_estimators=100;, score=0.821 total time=   0.1s\n",
      "[CV 2/5; 2/36] START learning_rate=0.01, max_depth=3, n_estimators=100..........\n",
      "[CV 2/5; 2/36] END learning_rate=0.01, max_depth=3, n_estimators=100;, score=0.815 total time=   0.1s\n",
      "[CV 3/5; 2/36] START learning_rate=0.01, max_depth=3, n_estimators=100..........\n",
      "[CV 3/5; 2/36] END learning_rate=0.01, max_depth=3, n_estimators=100;, score=0.828 total time=   0.1s\n",
      "[CV 4/5; 2/36] START learning_rate=0.01, max_depth=3, n_estimators=100..........\n",
      "[CV 4/5; 2/36] END learning_rate=0.01, max_depth=3, n_estimators=100;, score=0.795 total time=   0.1s\n",
      "[CV 5/5; 2/36] START learning_rate=0.01, max_depth=3, n_estimators=100..........\n",
      "[CV 5/5; 2/36] END learning_rate=0.01, max_depth=3, n_estimators=100;, score=0.828 total time=   0.1s\n",
      "[CV 1/5; 3/36] START learning_rate=0.01, max_depth=3, n_estimators=150..........\n",
      "[CV 1/5; 3/36] END learning_rate=0.01, max_depth=3, n_estimators=150;, score=0.815 total time=   0.2s\n",
      "[CV 2/5; 3/36] START learning_rate=0.01, max_depth=3, n_estimators=150..........\n",
      "[CV 2/5; 3/36] END learning_rate=0.01, max_depth=3, n_estimators=150;, score=0.815 total time=   0.2s\n",
      "[CV 3/5; 3/36] START learning_rate=0.01, max_depth=3, n_estimators=150..........\n",
      "[CV 3/5; 3/36] END learning_rate=0.01, max_depth=3, n_estimators=150;, score=0.861 total time=   0.2s\n",
      "[CV 4/5; 3/36] START learning_rate=0.01, max_depth=3, n_estimators=150..........\n",
      "[CV 4/5; 3/36] END learning_rate=0.01, max_depth=3, n_estimators=150;, score=0.795 total time=   0.2s\n",
      "[CV 5/5; 3/36] START learning_rate=0.01, max_depth=3, n_estimators=150..........\n",
      "[CV 5/5; 3/36] END learning_rate=0.01, max_depth=3, n_estimators=150;, score=0.834 total time=   0.1s\n",
      "[CV 1/5; 4/36] START learning_rate=0.01, max_depth=4, n_estimators=50...........\n",
      "[CV 1/5; 4/36] END learning_rate=0.01, max_depth=4, n_estimators=50;, score=0.788 total time=   0.0s\n",
      "[CV 2/5; 4/36] START learning_rate=0.01, max_depth=4, n_estimators=50...........\n",
      "[CV 2/5; 4/36] END learning_rate=0.01, max_depth=4, n_estimators=50;, score=0.768 total time=   0.0s\n",
      "[CV 3/5; 4/36] START learning_rate=0.01, max_depth=4, n_estimators=50...........\n",
      "[CV 3/5; 4/36] END learning_rate=0.01, max_depth=4, n_estimators=50;, score=0.834 total time=   0.0s\n",
      "[CV 4/5; 4/36] START learning_rate=0.01, max_depth=4, n_estimators=50...........\n",
      "[CV 4/5; 4/36] END learning_rate=0.01, max_depth=4, n_estimators=50;, score=0.795 total time=   0.0s\n",
      "[CV 5/5; 4/36] START learning_rate=0.01, max_depth=4, n_estimators=50...........\n",
      "[CV 5/5; 4/36] END learning_rate=0.01, max_depth=4, n_estimators=50;, score=0.795 total time=   0.0s\n",
      "[CV 1/5; 5/36] START learning_rate=0.01, max_depth=4, n_estimators=100..........\n",
      "[CV 1/5; 5/36] END learning_rate=0.01, max_depth=4, n_estimators=100;, score=0.821 total time=   0.1s\n",
      "[CV 2/5; 5/36] START learning_rate=0.01, max_depth=4, n_estimators=100..........\n",
      "[CV 2/5; 5/36] END learning_rate=0.01, max_depth=4, n_estimators=100;, score=0.775 total time=   0.1s\n",
      "[CV 3/5; 5/36] START learning_rate=0.01, max_depth=4, n_estimators=100..........\n",
      "[CV 3/5; 5/36] END learning_rate=0.01, max_depth=4, n_estimators=100;, score=0.854 total time=   0.1s\n",
      "[CV 4/5; 5/36] START learning_rate=0.01, max_depth=4, n_estimators=100..........\n",
      "[CV 4/5; 5/36] END learning_rate=0.01, max_depth=4, n_estimators=100;, score=0.821 total time=   0.1s\n",
      "[CV 5/5; 5/36] START learning_rate=0.01, max_depth=4, n_estimators=100..........\n",
      "[CV 5/5; 5/36] END learning_rate=0.01, max_depth=4, n_estimators=100;, score=0.841 total time=   0.1s\n",
      "[CV 1/5; 6/36] START learning_rate=0.01, max_depth=4, n_estimators=150..........\n",
      "[CV 1/5; 6/36] END learning_rate=0.01, max_depth=4, n_estimators=150;, score=0.815 total time=   0.3s\n",
      "[CV 2/5; 6/36] START learning_rate=0.01, max_depth=4, n_estimators=150..........\n",
      "[CV 2/5; 6/36] END learning_rate=0.01, max_depth=4, n_estimators=150;, score=0.775 total time=   0.3s\n",
      "[CV 3/5; 6/36] START learning_rate=0.01, max_depth=4, n_estimators=150..........\n",
      "[CV 3/5; 6/36] END learning_rate=0.01, max_depth=4, n_estimators=150;, score=0.854 total time=   0.2s\n",
      "[CV 4/5; 6/36] START learning_rate=0.01, max_depth=4, n_estimators=150..........\n",
      "[CV 4/5; 6/36] END learning_rate=0.01, max_depth=4, n_estimators=150;, score=0.821 total time=   0.2s\n",
      "[CV 5/5; 6/36] START learning_rate=0.01, max_depth=4, n_estimators=150..........\n",
      "[CV 5/5; 6/36] END learning_rate=0.01, max_depth=4, n_estimators=150;, score=0.834 total time=   0.2s\n",
      "[CV 1/5; 7/36] START learning_rate=0.01, max_depth=5, n_estimators=50...........\n",
      "[CV 1/5; 7/36] END learning_rate=0.01, max_depth=5, n_estimators=50;, score=0.808 total time=   0.1s\n",
      "[CV 2/5; 7/36] START learning_rate=0.01, max_depth=5, n_estimators=50...........\n",
      "[CV 2/5; 7/36] END learning_rate=0.01, max_depth=5, n_estimators=50;, score=0.775 total time=   0.1s\n",
      "[CV 3/5; 7/36] START learning_rate=0.01, max_depth=5, n_estimators=50...........\n",
      "[CV 3/5; 7/36] END learning_rate=0.01, max_depth=5, n_estimators=50;, score=0.848 total time=   0.1s\n",
      "[CV 4/5; 7/36] START learning_rate=0.01, max_depth=5, n_estimators=50...........\n",
      "[CV 4/5; 7/36] END learning_rate=0.01, max_depth=5, n_estimators=50;, score=0.815 total time=   0.1s\n",
      "[CV 5/5; 7/36] START learning_rate=0.01, max_depth=5, n_estimators=50...........\n",
      "[CV 5/5; 7/36] END learning_rate=0.01, max_depth=5, n_estimators=50;, score=0.788 total time=   0.1s\n",
      "[CV 1/5; 8/36] START learning_rate=0.01, max_depth=5, n_estimators=100..........\n",
      "[CV 1/5; 8/36] END learning_rate=0.01, max_depth=5, n_estimators=100;, score=0.828 total time=   0.2s\n",
      "[CV 2/5; 8/36] START learning_rate=0.01, max_depth=5, n_estimators=100..........\n",
      "[CV 2/5; 8/36] END learning_rate=0.01, max_depth=5, n_estimators=100;, score=0.775 total time=   0.2s\n",
      "[CV 3/5; 8/36] START learning_rate=0.01, max_depth=5, n_estimators=100..........\n",
      "[CV 3/5; 8/36] END learning_rate=0.01, max_depth=5, n_estimators=100;, score=0.841 total time=   0.2s\n",
      "[CV 4/5; 8/36] START learning_rate=0.01, max_depth=5, n_estimators=100..........\n",
      "[CV 4/5; 8/36] END learning_rate=0.01, max_depth=5, n_estimators=100;, score=0.808 total time=   0.2s\n",
      "[CV 5/5; 8/36] START learning_rate=0.01, max_depth=5, n_estimators=100..........\n",
      "[CV 5/5; 8/36] END learning_rate=0.01, max_depth=5, n_estimators=100;, score=0.828 total time=   0.2s\n",
      "[CV 1/5; 9/36] START learning_rate=0.01, max_depth=5, n_estimators=150..........\n",
      "[CV 1/5; 9/36] END learning_rate=0.01, max_depth=5, n_estimators=150;, score=0.815 total time=   0.3s\n",
      "[CV 2/5; 9/36] START learning_rate=0.01, max_depth=5, n_estimators=150..........\n",
      "[CV 2/5; 9/36] END learning_rate=0.01, max_depth=5, n_estimators=150;, score=0.781 total time=   0.4s\n",
      "[CV 3/5; 9/36] START learning_rate=0.01, max_depth=5, n_estimators=150..........\n",
      "[CV 3/5; 9/36] END learning_rate=0.01, max_depth=5, n_estimators=150;, score=0.841 total time=   0.3s\n",
      "[CV 4/5; 9/36] START learning_rate=0.01, max_depth=5, n_estimators=150..........\n",
      "[CV 4/5; 9/36] END learning_rate=0.01, max_depth=5, n_estimators=150;, score=0.788 total time=   0.4s\n",
      "[CV 5/5; 9/36] START learning_rate=0.01, max_depth=5, n_estimators=150..........\n",
      "[CV 5/5; 9/36] END learning_rate=0.01, max_depth=5, n_estimators=150;, score=0.848 total time=   0.3s\n",
      "[CV 1/5; 10/36] START learning_rate=0.05, max_depth=3, n_estimators=50..........\n",
      "[CV 1/5; 10/36] END learning_rate=0.05, max_depth=3, n_estimators=50;, score=0.821 total time=   0.0s\n",
      "[CV 2/5; 10/36] START learning_rate=0.05, max_depth=3, n_estimators=50..........\n",
      "[CV 2/5; 10/36] END learning_rate=0.05, max_depth=3, n_estimators=50;, score=0.808 total time=   0.0s\n",
      "[CV 3/5; 10/36] START learning_rate=0.05, max_depth=3, n_estimators=50..........\n",
      "[CV 3/5; 10/36] END learning_rate=0.05, max_depth=3, n_estimators=50;, score=0.881 total time=   0.0s\n",
      "[CV 4/5; 10/36] START learning_rate=0.05, max_depth=3, n_estimators=50..........\n",
      "[CV 4/5; 10/36] END learning_rate=0.05, max_depth=3, n_estimators=50;, score=0.801 total time=   0.0s\n",
      "[CV 5/5; 10/36] START learning_rate=0.05, max_depth=3, n_estimators=50..........\n",
      "[CV 5/5; 10/36] END learning_rate=0.05, max_depth=3, n_estimators=50;, score=0.828 total time=   0.0s\n",
      "[CV 1/5; 11/36] START learning_rate=0.05, max_depth=3, n_estimators=100.........\n",
      "[CV 1/5; 11/36] END learning_rate=0.05, max_depth=3, n_estimators=100;, score=0.821 total time=   0.1s\n",
      "[CV 2/5; 11/36] START learning_rate=0.05, max_depth=3, n_estimators=100.........\n",
      "[CV 2/5; 11/36] END learning_rate=0.05, max_depth=3, n_estimators=100;, score=0.788 total time=   0.1s\n",
      "[CV 3/5; 11/36] START learning_rate=0.05, max_depth=3, n_estimators=100.........\n",
      "[CV 3/5; 11/36] END learning_rate=0.05, max_depth=3, n_estimators=100;, score=0.861 total time=   0.1s\n",
      "[CV 4/5; 11/36] START learning_rate=0.05, max_depth=3, n_estimators=100.........\n",
      "[CV 4/5; 11/36] END learning_rate=0.05, max_depth=3, n_estimators=100;, score=0.828 total time=   0.1s\n",
      "[CV 5/5; 11/36] START learning_rate=0.05, max_depth=3, n_estimators=100.........\n",
      "[CV 5/5; 11/36] END learning_rate=0.05, max_depth=3, n_estimators=100;, score=0.861 total time=   0.1s\n",
      "[CV 1/5; 12/36] START learning_rate=0.05, max_depth=3, n_estimators=150.........\n",
      "[CV 1/5; 12/36] END learning_rate=0.05, max_depth=3, n_estimators=150;, score=0.821 total time=   0.1s\n",
      "[CV 2/5; 12/36] START learning_rate=0.05, max_depth=3, n_estimators=150.........\n",
      "[CV 2/5; 12/36] END learning_rate=0.05, max_depth=3, n_estimators=150;, score=0.801 total time=   0.1s\n",
      "[CV 3/5; 12/36] START learning_rate=0.05, max_depth=3, n_estimators=150.........\n",
      "[CV 3/5; 12/36] END learning_rate=0.05, max_depth=3, n_estimators=150;, score=0.874 total time=   0.1s\n",
      "[CV 4/5; 12/36] START learning_rate=0.05, max_depth=3, n_estimators=150.........\n",
      "[CV 4/5; 12/36] END learning_rate=0.05, max_depth=3, n_estimators=150;, score=0.841 total time=   0.1s\n",
      "[CV 5/5; 12/36] START learning_rate=0.05, max_depth=3, n_estimators=150.........\n",
      "[CV 5/5; 12/36] END learning_rate=0.05, max_depth=3, n_estimators=150;, score=0.861 total time=   0.2s\n",
      "[CV 1/5; 13/36] START learning_rate=0.05, max_depth=4, n_estimators=50..........\n",
      "[CV 1/5; 13/36] END learning_rate=0.05, max_depth=4, n_estimators=50;, score=0.815 total time=   0.0s\n",
      "[CV 2/5; 13/36] START learning_rate=0.05, max_depth=4, n_estimators=50..........\n",
      "[CV 2/5; 13/36] END learning_rate=0.05, max_depth=4, n_estimators=50;, score=0.775 total time=   0.0s\n",
      "[CV 3/5; 13/36] START learning_rate=0.05, max_depth=4, n_estimators=50..........\n",
      "[CV 3/5; 13/36] END learning_rate=0.05, max_depth=4, n_estimators=50;, score=0.841 total time=   0.0s\n",
      "[CV 4/5; 13/36] START learning_rate=0.05, max_depth=4, n_estimators=50..........\n",
      "[CV 4/5; 13/36] END learning_rate=0.05, max_depth=4, n_estimators=50;, score=0.821 total time=   0.0s\n",
      "[CV 5/5; 13/36] START learning_rate=0.05, max_depth=4, n_estimators=50..........\n",
      "[CV 5/5; 13/36] END learning_rate=0.05, max_depth=4, n_estimators=50;, score=0.848 total time=   0.0s\n",
      "[CV 1/5; 14/36] START learning_rate=0.05, max_depth=4, n_estimators=100.........\n",
      "[CV 1/5; 14/36] END learning_rate=0.05, max_depth=4, n_estimators=100;, score=0.815 total time=   0.1s\n",
      "[CV 2/5; 14/36] START learning_rate=0.05, max_depth=4, n_estimators=100.........\n",
      "[CV 2/5; 14/36] END learning_rate=0.05, max_depth=4, n_estimators=100;, score=0.801 total time=   0.1s\n",
      "[CV 3/5; 14/36] START learning_rate=0.05, max_depth=4, n_estimators=100.........\n",
      "[CV 3/5; 14/36] END learning_rate=0.05, max_depth=4, n_estimators=100;, score=0.861 total time=   0.1s\n",
      "[CV 4/5; 14/36] START learning_rate=0.05, max_depth=4, n_estimators=100.........\n",
      "[CV 4/5; 14/36] END learning_rate=0.05, max_depth=4, n_estimators=100;, score=0.828 total time=   0.1s\n",
      "[CV 5/5; 14/36] START learning_rate=0.05, max_depth=4, n_estimators=100.........\n",
      "[CV 5/5; 14/36] END learning_rate=0.05, max_depth=4, n_estimators=100;, score=0.848 total time=   0.2s\n",
      "[CV 1/5; 15/36] START learning_rate=0.05, max_depth=4, n_estimators=150.........\n",
      "[CV 1/5; 15/36] END learning_rate=0.05, max_depth=4, n_estimators=150;, score=0.808 total time=   0.3s\n",
      "[CV 2/5; 15/36] START learning_rate=0.05, max_depth=4, n_estimators=150.........\n",
      "[CV 2/5; 15/36] END learning_rate=0.05, max_depth=4, n_estimators=150;, score=0.788 total time=   0.2s\n",
      "[CV 3/5; 15/36] START learning_rate=0.05, max_depth=4, n_estimators=150.........\n",
      "[CV 3/5; 15/36] END learning_rate=0.05, max_depth=4, n_estimators=150;, score=0.868 total time=   0.2s\n",
      "[CV 4/5; 15/36] START learning_rate=0.05, max_depth=4, n_estimators=150.........\n",
      "[CV 4/5; 15/36] END learning_rate=0.05, max_depth=4, n_estimators=150;, score=0.848 total time=   0.2s\n",
      "[CV 5/5; 15/36] START learning_rate=0.05, max_depth=4, n_estimators=150.........\n",
      "[CV 5/5; 15/36] END learning_rate=0.05, max_depth=4, n_estimators=150;, score=0.841 total time=   0.2s\n",
      "[CV 1/5; 16/36] START learning_rate=0.05, max_depth=5, n_estimators=50..........\n",
      "[CV 1/5; 16/36] END learning_rate=0.05, max_depth=5, n_estimators=50;, score=0.821 total time=   0.0s\n",
      "[CV 2/5; 16/36] START learning_rate=0.05, max_depth=5, n_estimators=50..........\n",
      "[CV 2/5; 16/36] END learning_rate=0.05, max_depth=5, n_estimators=50;, score=0.768 total time=   0.1s\n",
      "[CV 3/5; 16/36] START learning_rate=0.05, max_depth=5, n_estimators=50..........\n",
      "[CV 3/5; 16/36] END learning_rate=0.05, max_depth=5, n_estimators=50;, score=0.834 total time=   0.0s\n",
      "[CV 4/5; 16/36] START learning_rate=0.05, max_depth=5, n_estimators=50..........\n",
      "[CV 4/5; 16/36] END learning_rate=0.05, max_depth=5, n_estimators=50;, score=0.828 total time=   0.1s\n",
      "[CV 5/5; 16/36] START learning_rate=0.05, max_depth=5, n_estimators=50..........\n",
      "[CV 5/5; 16/36] END learning_rate=0.05, max_depth=5, n_estimators=50;, score=0.821 total time=   0.0s\n",
      "[CV 1/5; 17/36] START learning_rate=0.05, max_depth=5, n_estimators=100.........\n",
      "[CV 1/5; 17/36] END learning_rate=0.05, max_depth=5, n_estimators=100;, score=0.781 total time=   0.2s\n",
      "[CV 2/5; 17/36] START learning_rate=0.05, max_depth=5, n_estimators=100.........\n",
      "[CV 2/5; 17/36] END learning_rate=0.05, max_depth=5, n_estimators=100;, score=0.775 total time=   0.2s\n",
      "[CV 3/5; 17/36] START learning_rate=0.05, max_depth=5, n_estimators=100.........\n",
      "[CV 3/5; 17/36] END learning_rate=0.05, max_depth=5, n_estimators=100;, score=0.848 total time=   0.2s\n",
      "[CV 4/5; 17/36] START learning_rate=0.05, max_depth=5, n_estimators=100.........\n",
      "[CV 4/5; 17/36] END learning_rate=0.05, max_depth=5, n_estimators=100;, score=0.821 total time=   0.2s\n",
      "[CV 5/5; 17/36] START learning_rate=0.05, max_depth=5, n_estimators=100.........\n",
      "[CV 5/5; 17/36] END learning_rate=0.05, max_depth=5, n_estimators=100;, score=0.834 total time=   0.2s\n",
      "[CV 1/5; 18/36] START learning_rate=0.05, max_depth=5, n_estimators=150.........\n",
      "[CV 1/5; 18/36] END learning_rate=0.05, max_depth=5, n_estimators=150;, score=0.795 total time=   0.3s\n",
      "[CV 2/5; 18/36] START learning_rate=0.05, max_depth=5, n_estimators=150.........\n",
      "[CV 2/5; 18/36] END learning_rate=0.05, max_depth=5, n_estimators=150;, score=0.801 total time=   0.3s\n",
      "[CV 3/5; 18/36] START learning_rate=0.05, max_depth=5, n_estimators=150.........\n",
      "[CV 3/5; 18/36] END learning_rate=0.05, max_depth=5, n_estimators=150;, score=0.841 total time=   0.3s\n",
      "[CV 4/5; 18/36] START learning_rate=0.05, max_depth=5, n_estimators=150.........\n",
      "[CV 4/5; 18/36] END learning_rate=0.05, max_depth=5, n_estimators=150;, score=0.801 total time=   0.3s\n",
      "[CV 5/5; 18/36] START learning_rate=0.05, max_depth=5, n_estimators=150.........\n",
      "[CV 5/5; 18/36] END learning_rate=0.05, max_depth=5, n_estimators=150;, score=0.828 total time=   0.3s\n",
      "[CV 1/5; 19/36] START learning_rate=0.1, max_depth=3, n_estimators=50...........\n",
      "[CV 1/5; 19/36] END learning_rate=0.1, max_depth=3, n_estimators=50;, score=0.808 total time=   0.0s\n",
      "[CV 2/5; 19/36] START learning_rate=0.1, max_depth=3, n_estimators=50...........\n",
      "[CV 2/5; 19/36] END learning_rate=0.1, max_depth=3, n_estimators=50;, score=0.781 total time=   0.0s\n",
      "[CV 3/5; 19/36] START learning_rate=0.1, max_depth=3, n_estimators=50...........\n",
      "[CV 3/5; 19/36] END learning_rate=0.1, max_depth=3, n_estimators=50;, score=0.868 total time=   0.0s\n",
      "[CV 4/5; 19/36] START learning_rate=0.1, max_depth=3, n_estimators=50...........\n",
      "[CV 4/5; 19/36] END learning_rate=0.1, max_depth=3, n_estimators=50;, score=0.828 total time=   0.0s\n",
      "[CV 5/5; 19/36] START learning_rate=0.1, max_depth=3, n_estimators=50...........\n",
      "[CV 5/5; 19/36] END learning_rate=0.1, max_depth=3, n_estimators=50;, score=0.861 total time=   0.0s\n",
      "[CV 1/5; 20/36] START learning_rate=0.1, max_depth=3, n_estimators=100..........\n",
      "[CV 1/5; 20/36] END learning_rate=0.1, max_depth=3, n_estimators=100;, score=0.795 total time=   0.1s\n",
      "[CV 2/5; 20/36] START learning_rate=0.1, max_depth=3, n_estimators=100..........\n",
      "[CV 2/5; 20/36] END learning_rate=0.1, max_depth=3, n_estimators=100;, score=0.788 total time=   0.1s\n",
      "[CV 3/5; 20/36] START learning_rate=0.1, max_depth=3, n_estimators=100..........\n",
      "[CV 3/5; 20/36] END learning_rate=0.1, max_depth=3, n_estimators=100;, score=0.874 total time=   0.1s\n",
      "[CV 4/5; 20/36] START learning_rate=0.1, max_depth=3, n_estimators=100..........\n",
      "[CV 4/5; 20/36] END learning_rate=0.1, max_depth=3, n_estimators=100;, score=0.834 total time=   0.1s\n",
      "[CV 5/5; 20/36] START learning_rate=0.1, max_depth=3, n_estimators=100..........\n",
      "[CV 5/5; 20/36] END learning_rate=0.1, max_depth=3, n_estimators=100;, score=0.861 total time=   0.1s\n",
      "[CV 1/5; 21/36] START learning_rate=0.1, max_depth=3, n_estimators=150..........\n",
      "[CV 1/5; 21/36] END learning_rate=0.1, max_depth=3, n_estimators=150;, score=0.808 total time=   0.1s\n",
      "[CV 2/5; 21/36] START learning_rate=0.1, max_depth=3, n_estimators=150..........\n",
      "[CV 2/5; 21/36] END learning_rate=0.1, max_depth=3, n_estimators=150;, score=0.795 total time=   0.2s\n",
      "[CV 3/5; 21/36] START learning_rate=0.1, max_depth=3, n_estimators=150..........\n",
      "[CV 3/5; 21/36] END learning_rate=0.1, max_depth=3, n_estimators=150;, score=0.854 total time=   0.1s\n",
      "[CV 4/5; 21/36] START learning_rate=0.1, max_depth=3, n_estimators=150..........\n",
      "[CV 4/5; 21/36] END learning_rate=0.1, max_depth=3, n_estimators=150;, score=0.834 total time=   0.1s\n",
      "[CV 5/5; 21/36] START learning_rate=0.1, max_depth=3, n_estimators=150..........\n",
      "[CV 5/5; 21/36] END learning_rate=0.1, max_depth=3, n_estimators=150;, score=0.841 total time=   0.1s\n",
      "[CV 1/5; 22/36] START learning_rate=0.1, max_depth=4, n_estimators=50...........\n",
      "[CV 1/5; 22/36] END learning_rate=0.1, max_depth=4, n_estimators=50;, score=0.808 total time=   0.0s\n",
      "[CV 2/5; 22/36] START learning_rate=0.1, max_depth=4, n_estimators=50...........\n",
      "[CV 2/5; 22/36] END learning_rate=0.1, max_depth=4, n_estimators=50;, score=0.801 total time=   0.0s\n",
      "[CV 3/5; 22/36] START learning_rate=0.1, max_depth=4, n_estimators=50...........\n",
      "[CV 3/5; 22/36] END learning_rate=0.1, max_depth=4, n_estimators=50;, score=0.848 total time=   0.0s\n",
      "[CV 4/5; 22/36] START learning_rate=0.1, max_depth=4, n_estimators=50...........\n",
      "[CV 4/5; 22/36] END learning_rate=0.1, max_depth=4, n_estimators=50;, score=0.841 total time=   0.0s\n",
      "[CV 5/5; 22/36] START learning_rate=0.1, max_depth=4, n_estimators=50...........\n",
      "[CV 5/5; 22/36] END learning_rate=0.1, max_depth=4, n_estimators=50;, score=0.841 total time=   0.0s\n",
      "[CV 1/5; 23/36] START learning_rate=0.1, max_depth=4, n_estimators=100..........\n",
      "[CV 1/5; 23/36] END learning_rate=0.1, max_depth=4, n_estimators=100;, score=0.808 total time=   0.1s\n",
      "[CV 2/5; 23/36] START learning_rate=0.1, max_depth=4, n_estimators=100..........\n",
      "[CV 2/5; 23/36] END learning_rate=0.1, max_depth=4, n_estimators=100;, score=0.801 total time=   0.1s\n",
      "[CV 3/5; 23/36] START learning_rate=0.1, max_depth=4, n_estimators=100..........\n",
      "[CV 3/5; 23/36] END learning_rate=0.1, max_depth=4, n_estimators=100;, score=0.854 total time=   0.1s\n",
      "[CV 4/5; 23/36] START learning_rate=0.1, max_depth=4, n_estimators=100..........\n",
      "[CV 4/5; 23/36] END learning_rate=0.1, max_depth=4, n_estimators=100;, score=0.828 total time=   0.1s\n",
      "[CV 5/5; 23/36] START learning_rate=0.1, max_depth=4, n_estimators=100..........\n",
      "[CV 5/5; 23/36] END learning_rate=0.1, max_depth=4, n_estimators=100;, score=0.834 total time=   0.1s\n",
      "[CV 1/5; 24/36] START learning_rate=0.1, max_depth=4, n_estimators=150..........\n",
      "[CV 1/5; 24/36] END learning_rate=0.1, max_depth=4, n_estimators=150;, score=0.801 total time=   0.3s\n",
      "[CV 2/5; 24/36] START learning_rate=0.1, max_depth=4, n_estimators=150..........\n",
      "[CV 2/5; 24/36] END learning_rate=0.1, max_depth=4, n_estimators=150;, score=0.801 total time=   0.2s\n",
      "[CV 3/5; 24/36] START learning_rate=0.1, max_depth=4, n_estimators=150..........\n",
      "[CV 3/5; 24/36] END learning_rate=0.1, max_depth=4, n_estimators=150;, score=0.861 total time=   0.2s\n",
      "[CV 4/5; 24/36] START learning_rate=0.1, max_depth=4, n_estimators=150..........\n",
      "[CV 4/5; 24/36] END learning_rate=0.1, max_depth=4, n_estimators=150;, score=0.834 total time=   0.2s\n",
      "[CV 5/5; 24/36] START learning_rate=0.1, max_depth=4, n_estimators=150..........\n",
      "[CV 5/5; 24/36] END learning_rate=0.1, max_depth=4, n_estimators=150;, score=0.841 total time=   0.2s\n",
      "[CV 1/5; 25/36] START learning_rate=0.1, max_depth=5, n_estimators=50...........\n",
      "[CV 1/5; 25/36] END learning_rate=0.1, max_depth=5, n_estimators=50;, score=0.801 total time=   0.1s\n",
      "[CV 2/5; 25/36] START learning_rate=0.1, max_depth=5, n_estimators=50...........\n",
      "[CV 2/5; 25/36] END learning_rate=0.1, max_depth=5, n_estimators=50;, score=0.781 total time=   0.1s\n",
      "[CV 3/5; 25/36] START learning_rate=0.1, max_depth=5, n_estimators=50...........\n",
      "[CV 3/5; 25/36] END learning_rate=0.1, max_depth=5, n_estimators=50;, score=0.848 total time=   0.1s\n",
      "[CV 4/5; 25/36] START learning_rate=0.1, max_depth=5, n_estimators=50...........\n",
      "[CV 4/5; 25/36] END learning_rate=0.1, max_depth=5, n_estimators=50;, score=0.828 total time=   0.1s\n",
      "[CV 5/5; 25/36] START learning_rate=0.1, max_depth=5, n_estimators=50...........\n",
      "[CV 5/5; 25/36] END learning_rate=0.1, max_depth=5, n_estimators=50;, score=0.834 total time=   0.1s\n",
      "[CV 1/5; 26/36] START learning_rate=0.1, max_depth=5, n_estimators=100..........\n",
      "[CV 1/5; 26/36] END learning_rate=0.1, max_depth=5, n_estimators=100;, score=0.815 total time=   0.2s\n",
      "[CV 2/5; 26/36] START learning_rate=0.1, max_depth=5, n_estimators=100..........\n",
      "[CV 2/5; 26/36] END learning_rate=0.1, max_depth=5, n_estimators=100;, score=0.788 total time=   0.2s\n",
      "[CV 3/5; 26/36] START learning_rate=0.1, max_depth=5, n_estimators=100..........\n",
      "[CV 3/5; 26/36] END learning_rate=0.1, max_depth=5, n_estimators=100;, score=0.848 total time=   0.2s\n",
      "[CV 4/5; 26/36] START learning_rate=0.1, max_depth=5, n_estimators=100..........\n",
      "[CV 4/5; 26/36] END learning_rate=0.1, max_depth=5, n_estimators=100;, score=0.815 total time=   0.2s\n",
      "[CV 5/5; 26/36] START learning_rate=0.1, max_depth=5, n_estimators=100..........\n",
      "[CV 5/5; 26/36] END learning_rate=0.1, max_depth=5, n_estimators=100;, score=0.815 total time=   0.2s\n",
      "[CV 1/5; 27/36] START learning_rate=0.1, max_depth=5, n_estimators=150..........\n",
      "[CV 1/5; 27/36] END learning_rate=0.1, max_depth=5, n_estimators=150;, score=0.788 total time=   0.4s\n",
      "[CV 2/5; 27/36] START learning_rate=0.1, max_depth=5, n_estimators=150..........\n",
      "[CV 2/5; 27/36] END learning_rate=0.1, max_depth=5, n_estimators=150;, score=0.795 total time=   0.3s\n",
      "[CV 3/5; 27/36] START learning_rate=0.1, max_depth=5, n_estimators=150..........\n",
      "[CV 3/5; 27/36] END learning_rate=0.1, max_depth=5, n_estimators=150;, score=0.834 total time=   0.3s\n",
      "[CV 4/5; 27/36] START learning_rate=0.1, max_depth=5, n_estimators=150..........\n",
      "[CV 4/5; 27/36] END learning_rate=0.1, max_depth=5, n_estimators=150;, score=0.834 total time=   0.4s\n",
      "[CV 5/5; 27/36] START learning_rate=0.1, max_depth=5, n_estimators=150..........\n",
      "[CV 5/5; 27/36] END learning_rate=0.1, max_depth=5, n_estimators=150;, score=0.828 total time=   0.3s\n",
      "[CV 1/5; 28/36] START learning_rate=0.2, max_depth=3, n_estimators=50...........\n",
      "[CV 1/5; 28/36] END learning_rate=0.2, max_depth=3, n_estimators=50;, score=0.815 total time=   0.0s\n",
      "[CV 2/5; 28/36] START learning_rate=0.2, max_depth=3, n_estimators=50...........\n",
      "[CV 2/5; 28/36] END learning_rate=0.2, max_depth=3, n_estimators=50;, score=0.801 total time=   0.0s\n",
      "[CV 3/5; 28/36] START learning_rate=0.2, max_depth=3, n_estimators=50...........\n",
      "[CV 3/5; 28/36] END learning_rate=0.2, max_depth=3, n_estimators=50;, score=0.861 total time=   0.0s\n",
      "[CV 4/5; 28/36] START learning_rate=0.2, max_depth=3, n_estimators=50...........\n",
      "[CV 4/5; 28/36] END learning_rate=0.2, max_depth=3, n_estimators=50;, score=0.834 total time=   0.0s\n",
      "[CV 5/5; 28/36] START learning_rate=0.2, max_depth=3, n_estimators=50...........\n",
      "[CV 5/5; 28/36] END learning_rate=0.2, max_depth=3, n_estimators=50;, score=0.854 total time=   0.0s\n",
      "[CV 1/5; 29/36] START learning_rate=0.2, max_depth=3, n_estimators=100..........\n",
      "[CV 1/5; 29/36] END learning_rate=0.2, max_depth=3, n_estimators=100;, score=0.815 total time=   0.1s\n",
      "[CV 2/5; 29/36] START learning_rate=0.2, max_depth=3, n_estimators=100..........\n",
      "[CV 2/5; 29/36] END learning_rate=0.2, max_depth=3, n_estimators=100;, score=0.788 total time=   0.1s\n",
      "[CV 3/5; 29/36] START learning_rate=0.2, max_depth=3, n_estimators=100..........\n",
      "[CV 3/5; 29/36] END learning_rate=0.2, max_depth=3, n_estimators=100;, score=0.848 total time=   0.1s\n",
      "[CV 4/5; 29/36] START learning_rate=0.2, max_depth=3, n_estimators=100..........\n",
      "[CV 4/5; 29/36] END learning_rate=0.2, max_depth=3, n_estimators=100;, score=0.808 total time=   0.1s\n",
      "[CV 5/5; 29/36] START learning_rate=0.2, max_depth=3, n_estimators=100..........\n",
      "[CV 5/5; 29/36] END learning_rate=0.2, max_depth=3, n_estimators=100;, score=0.821 total time=   0.1s\n",
      "[CV 1/5; 30/36] START learning_rate=0.2, max_depth=3, n_estimators=150..........\n",
      "[CV 1/5; 30/36] END learning_rate=0.2, max_depth=3, n_estimators=150;, score=0.815 total time=   0.1s\n",
      "[CV 2/5; 30/36] START learning_rate=0.2, max_depth=3, n_estimators=150..........\n",
      "[CV 2/5; 30/36] END learning_rate=0.2, max_depth=3, n_estimators=150;, score=0.795 total time=   0.1s\n",
      "[CV 3/5; 30/36] START learning_rate=0.2, max_depth=3, n_estimators=150..........\n",
      "[CV 3/5; 30/36] END learning_rate=0.2, max_depth=3, n_estimators=150;, score=0.841 total time=   0.1s\n",
      "[CV 4/5; 30/36] START learning_rate=0.2, max_depth=3, n_estimators=150..........\n",
      "[CV 4/5; 30/36] END learning_rate=0.2, max_depth=3, n_estimators=150;, score=0.808 total time=   0.1s\n",
      "[CV 5/5; 30/36] START learning_rate=0.2, max_depth=3, n_estimators=150..........\n",
      "[CV 5/5; 30/36] END learning_rate=0.2, max_depth=3, n_estimators=150;, score=0.834 total time=   0.1s\n",
      "[CV 1/5; 31/36] START learning_rate=0.2, max_depth=4, n_estimators=50...........\n",
      "[CV 1/5; 31/36] END learning_rate=0.2, max_depth=4, n_estimators=50;, score=0.808 total time=   0.0s\n",
      "[CV 2/5; 31/36] START learning_rate=0.2, max_depth=4, n_estimators=50...........\n",
      "[CV 2/5; 31/36] END learning_rate=0.2, max_depth=4, n_estimators=50;, score=0.801 total time=   0.0s\n",
      "[CV 3/5; 31/36] START learning_rate=0.2, max_depth=4, n_estimators=50...........\n",
      "[CV 3/5; 31/36] END learning_rate=0.2, max_depth=4, n_estimators=50;, score=0.841 total time=   0.0s\n",
      "[CV 4/5; 31/36] START learning_rate=0.2, max_depth=4, n_estimators=50...........\n",
      "[CV 4/5; 31/36] END learning_rate=0.2, max_depth=4, n_estimators=50;, score=0.821 total time=   0.0s\n",
      "[CV 5/5; 31/36] START learning_rate=0.2, max_depth=4, n_estimators=50...........\n",
      "[CV 5/5; 31/36] END learning_rate=0.2, max_depth=4, n_estimators=50;, score=0.821 total time=   0.0s\n",
      "[CV 1/5; 32/36] START learning_rate=0.2, max_depth=4, n_estimators=100..........\n",
      "[CV 1/5; 32/36] END learning_rate=0.2, max_depth=4, n_estimators=100;, score=0.815 total time=   0.1s\n",
      "[CV 2/5; 32/36] START learning_rate=0.2, max_depth=4, n_estimators=100..........\n",
      "[CV 2/5; 32/36] END learning_rate=0.2, max_depth=4, n_estimators=100;, score=0.781 total time=   0.1s\n",
      "[CV 3/5; 32/36] START learning_rate=0.2, max_depth=4, n_estimators=100..........\n",
      "[CV 3/5; 32/36] END learning_rate=0.2, max_depth=4, n_estimators=100;, score=0.828 total time=   0.1s\n",
      "[CV 4/5; 32/36] START learning_rate=0.2, max_depth=4, n_estimators=100..........\n",
      "[CV 4/5; 32/36] END learning_rate=0.2, max_depth=4, n_estimators=100;, score=0.828 total time=   0.1s\n",
      "[CV 5/5; 32/36] START learning_rate=0.2, max_depth=4, n_estimators=100..........\n",
      "[CV 5/5; 32/36] END learning_rate=0.2, max_depth=4, n_estimators=100;, score=0.821 total time=   0.1s\n",
      "[CV 1/5; 33/36] START learning_rate=0.2, max_depth=4, n_estimators=150..........\n",
      "[CV 1/5; 33/36] END learning_rate=0.2, max_depth=4, n_estimators=150;, score=0.775 total time=   0.3s\n",
      "[CV 2/5; 33/36] START learning_rate=0.2, max_depth=4, n_estimators=150..........\n",
      "[CV 2/5; 33/36] END learning_rate=0.2, max_depth=4, n_estimators=150;, score=0.788 total time=   0.2s\n",
      "[CV 3/5; 33/36] START learning_rate=0.2, max_depth=4, n_estimators=150..........\n",
      "[CV 3/5; 33/36] END learning_rate=0.2, max_depth=4, n_estimators=150;, score=0.828 total time=   0.2s\n",
      "[CV 4/5; 33/36] START learning_rate=0.2, max_depth=4, n_estimators=150..........\n",
      "[CV 4/5; 33/36] END learning_rate=0.2, max_depth=4, n_estimators=150;, score=0.821 total time=   0.2s\n",
      "[CV 5/5; 33/36] START learning_rate=0.2, max_depth=4, n_estimators=150..........\n",
      "[CV 5/5; 33/36] END learning_rate=0.2, max_depth=4, n_estimators=150;, score=0.828 total time=   0.2s\n",
      "[CV 1/5; 34/36] START learning_rate=0.2, max_depth=5, n_estimators=50...........\n",
      "[CV 1/5; 34/36] END learning_rate=0.2, max_depth=5, n_estimators=50;, score=0.808 total time=   0.0s\n",
      "[CV 2/5; 34/36] START learning_rate=0.2, max_depth=5, n_estimators=50...........\n",
      "[CV 2/5; 34/36] END learning_rate=0.2, max_depth=5, n_estimators=50;, score=0.775 total time=   0.0s\n",
      "[CV 3/5; 34/36] START learning_rate=0.2, max_depth=5, n_estimators=50...........\n",
      "[CV 3/5; 34/36] END learning_rate=0.2, max_depth=5, n_estimators=50;, score=0.854 total time=   0.0s\n",
      "[CV 4/5; 34/36] START learning_rate=0.2, max_depth=5, n_estimators=50...........\n",
      "[CV 4/5; 34/36] END learning_rate=0.2, max_depth=5, n_estimators=50;, score=0.821 total time=   0.1s\n",
      "[CV 5/5; 34/36] START learning_rate=0.2, max_depth=5, n_estimators=50...........\n",
      "[CV 5/5; 34/36] END learning_rate=0.2, max_depth=5, n_estimators=50;, score=0.821 total time=   0.1s\n",
      "[CV 1/5; 35/36] START learning_rate=0.2, max_depth=5, n_estimators=100..........\n",
      "[CV 1/5; 35/36] END learning_rate=0.2, max_depth=5, n_estimators=100;, score=0.788 total time=   0.2s\n",
      "[CV 2/5; 35/36] START learning_rate=0.2, max_depth=5, n_estimators=100..........\n",
      "[CV 2/5; 35/36] END learning_rate=0.2, max_depth=5, n_estimators=100;, score=0.795 total time=   0.2s\n",
      "[CV 3/5; 35/36] START learning_rate=0.2, max_depth=5, n_estimators=100..........\n",
      "[CV 3/5; 35/36] END learning_rate=0.2, max_depth=5, n_estimators=100;, score=0.834 total time=   0.2s\n",
      "[CV 4/5; 35/36] START learning_rate=0.2, max_depth=5, n_estimators=100..........\n",
      "[CV 4/5; 35/36] END learning_rate=0.2, max_depth=5, n_estimators=100;, score=0.834 total time=   0.2s\n",
      "[CV 5/5; 35/36] START learning_rate=0.2, max_depth=5, n_estimators=100..........\n",
      "[CV 5/5; 35/36] END learning_rate=0.2, max_depth=5, n_estimators=100;, score=0.828 total time=   0.2s\n",
      "[CV 1/5; 36/36] START learning_rate=0.2, max_depth=5, n_estimators=150..........\n",
      "[CV 1/5; 36/36] END learning_rate=0.2, max_depth=5, n_estimators=150;, score=0.775 total time=   0.3s\n",
      "[CV 2/5; 36/36] START learning_rate=0.2, max_depth=5, n_estimators=150..........\n",
      "[CV 2/5; 36/36] END learning_rate=0.2, max_depth=5, n_estimators=150;, score=0.801 total time=   0.3s\n",
      "[CV 3/5; 36/36] START learning_rate=0.2, max_depth=5, n_estimators=150..........\n",
      "[CV 3/5; 36/36] END learning_rate=0.2, max_depth=5, n_estimators=150;, score=0.848 total time=   0.3s\n",
      "[CV 4/5; 36/36] START learning_rate=0.2, max_depth=5, n_estimators=150..........\n",
      "[CV 4/5; 36/36] END learning_rate=0.2, max_depth=5, n_estimators=150;, score=0.815 total time=   0.3s\n",
      "[CV 5/5; 36/36] START learning_rate=0.2, max_depth=5, n_estimators=150..........\n",
      "[CV 5/5; 36/36] END learning_rate=0.2, max_depth=5, n_estimators=150;, score=0.854 total time=   0.3s\n"
     ]
    },
    {
     "data": {
      "text/html": [
       "<style>#sk-container-id-5 {color: black;}#sk-container-id-5 pre{padding: 0;}#sk-container-id-5 div.sk-toggleable {background-color: white;}#sk-container-id-5 label.sk-toggleable__label {cursor: pointer;display: block;width: 100%;margin-bottom: 0;padding: 0.3em;box-sizing: border-box;text-align: center;}#sk-container-id-5 label.sk-toggleable__label-arrow:before {content: \"▸\";float: left;margin-right: 0.25em;color: #696969;}#sk-container-id-5 label.sk-toggleable__label-arrow:hover:before {color: black;}#sk-container-id-5 div.sk-estimator:hover label.sk-toggleable__label-arrow:before {color: black;}#sk-container-id-5 div.sk-toggleable__content {max-height: 0;max-width: 0;overflow: hidden;text-align: left;background-color: #f0f8ff;}#sk-container-id-5 div.sk-toggleable__content pre {margin: 0.2em;color: black;border-radius: 0.25em;background-color: #f0f8ff;}#sk-container-id-5 input.sk-toggleable__control:checked~div.sk-toggleable__content {max-height: 200px;max-width: 100%;overflow: auto;}#sk-container-id-5 input.sk-toggleable__control:checked~label.sk-toggleable__label-arrow:before {content: \"▾\";}#sk-container-id-5 div.sk-estimator input.sk-toggleable__control:checked~label.sk-toggleable__label {background-color: #d4ebff;}#sk-container-id-5 div.sk-label input.sk-toggleable__control:checked~label.sk-toggleable__label {background-color: #d4ebff;}#sk-container-id-5 input.sk-hidden--visually {border: 0;clip: rect(1px 1px 1px 1px);clip: rect(1px, 1px, 1px, 1px);height: 1px;margin: -1px;overflow: hidden;padding: 0;position: absolute;width: 1px;}#sk-container-id-5 div.sk-estimator {font-family: monospace;background-color: #f0f8ff;border: 1px dotted black;border-radius: 0.25em;box-sizing: border-box;margin-bottom: 0.5em;}#sk-container-id-5 div.sk-estimator:hover {background-color: #d4ebff;}#sk-container-id-5 div.sk-parallel-item::after {content: \"\";width: 100%;border-bottom: 1px solid gray;flex-grow: 1;}#sk-container-id-5 div.sk-label:hover label.sk-toggleable__label {background-color: #d4ebff;}#sk-container-id-5 div.sk-serial::before {content: \"\";position: absolute;border-left: 1px solid gray;box-sizing: border-box;top: 0;bottom: 0;left: 50%;z-index: 0;}#sk-container-id-5 div.sk-serial {display: flex;flex-direction: column;align-items: center;background-color: white;padding-right: 0.2em;padding-left: 0.2em;position: relative;}#sk-container-id-5 div.sk-item {position: relative;z-index: 1;}#sk-container-id-5 div.sk-parallel {display: flex;align-items: stretch;justify-content: center;background-color: white;position: relative;}#sk-container-id-5 div.sk-item::before, #sk-container-id-5 div.sk-parallel-item::before {content: \"\";position: absolute;border-left: 1px solid gray;box-sizing: border-box;top: 0;bottom: 0;left: 50%;z-index: -1;}#sk-container-id-5 div.sk-parallel-item {display: flex;flex-direction: column;z-index: 1;position: relative;background-color: white;}#sk-container-id-5 div.sk-parallel-item:first-child::after {align-self: flex-end;width: 50%;}#sk-container-id-5 div.sk-parallel-item:last-child::after {align-self: flex-start;width: 50%;}#sk-container-id-5 div.sk-parallel-item:only-child::after {width: 0;}#sk-container-id-5 div.sk-dashed-wrapped {border: 1px dashed gray;margin: 0 0.4em 0.5em 0.4em;box-sizing: border-box;padding-bottom: 0.4em;background-color: white;}#sk-container-id-5 div.sk-label label {font-family: monospace;font-weight: bold;display: inline-block;line-height: 1.2em;}#sk-container-id-5 div.sk-label-container {text-align: center;}#sk-container-id-5 div.sk-container {/* jupyter's `normalize.less` sets `[hidden] { display: none; }` but bootstrap.min.css set `[hidden] { display: none !important; }` so we also need the `!important` here to be able to override the default hidden behavior on the sphinx rendered scikit-learn.org. See: https://github.com/scikit-learn/scikit-learn/issues/21755 */display: inline-block !important;position: relative;}#sk-container-id-5 div.sk-text-repr-fallback {display: none;}</style><div id=\"sk-container-id-5\" class=\"sk-top-container\"><div class=\"sk-text-repr-fallback\"><pre>GridSearchCV(estimator=GradientBoostingClassifier(),\n",
       "             param_grid={&#x27;learning_rate&#x27;: [0.01, 0.05, 0.1, 0.2],\n",
       "                         &#x27;max_depth&#x27;: [3, 4, 5],\n",
       "                         &#x27;n_estimators&#x27;: [50, 100, 150]},\n",
       "             verbose=10)</pre><b>In a Jupyter environment, please rerun this cell to show the HTML representation or trust the notebook. <br />On GitHub, the HTML representation is unable to render, please try loading this page with nbviewer.org.</b></div><div class=\"sk-container\" hidden><div class=\"sk-item sk-dashed-wrapped\"><div class=\"sk-label-container\"><div class=\"sk-label sk-toggleable\"><input class=\"sk-toggleable__control sk-hidden--visually\" id=\"sk-estimator-id-9\" type=\"checkbox\" ><label for=\"sk-estimator-id-9\" class=\"sk-toggleable__label sk-toggleable__label-arrow\">GridSearchCV</label><div class=\"sk-toggleable__content\"><pre>GridSearchCV(estimator=GradientBoostingClassifier(),\n",
       "             param_grid={&#x27;learning_rate&#x27;: [0.01, 0.05, 0.1, 0.2],\n",
       "                         &#x27;max_depth&#x27;: [3, 4, 5],\n",
       "                         &#x27;n_estimators&#x27;: [50, 100, 150]},\n",
       "             verbose=10)</pre></div></div></div><div class=\"sk-parallel\"><div class=\"sk-parallel-item\"><div class=\"sk-item\"><div class=\"sk-label-container\"><div class=\"sk-label sk-toggleable\"><input class=\"sk-toggleable__control sk-hidden--visually\" id=\"sk-estimator-id-10\" type=\"checkbox\" ><label for=\"sk-estimator-id-10\" class=\"sk-toggleable__label sk-toggleable__label-arrow\">estimator: GradientBoostingClassifier</label><div class=\"sk-toggleable__content\"><pre>GradientBoostingClassifier()</pre></div></div></div><div class=\"sk-serial\"><div class=\"sk-item\"><div class=\"sk-estimator sk-toggleable\"><input class=\"sk-toggleable__control sk-hidden--visually\" id=\"sk-estimator-id-11\" type=\"checkbox\" ><label for=\"sk-estimator-id-11\" class=\"sk-toggleable__label sk-toggleable__label-arrow\">GradientBoostingClassifier</label><div class=\"sk-toggleable__content\"><pre>GradientBoostingClassifier()</pre></div></div></div></div></div></div></div></div></div></div>"
      ],
      "text/plain": [
       "GridSearchCV(estimator=GradientBoostingClassifier(),\n",
       "             param_grid={'learning_rate': [0.01, 0.05, 0.1, 0.2],\n",
       "                         'max_depth': [3, 4, 5],\n",
       "                         'n_estimators': [50, 100, 150]},\n",
       "             verbose=10)"
      ]
     },
     "execution_count": 70,
     "metadata": {},
     "output_type": "execute_result"
    }
   ],
   "source": [
    "gbc_grid_model.fit(X_train, y_train)"
   ]
  },
  {
   "cell_type": "code",
   "execution_count": 71,
   "id": "e5f85968-22b9-4c19-be46-45fbb448f014",
   "metadata": {},
   "outputs": [
    {
     "data": {
      "text/html": [
       "<style>#sk-container-id-6 {color: black;}#sk-container-id-6 pre{padding: 0;}#sk-container-id-6 div.sk-toggleable {background-color: white;}#sk-container-id-6 label.sk-toggleable__label {cursor: pointer;display: block;width: 100%;margin-bottom: 0;padding: 0.3em;box-sizing: border-box;text-align: center;}#sk-container-id-6 label.sk-toggleable__label-arrow:before {content: \"▸\";float: left;margin-right: 0.25em;color: #696969;}#sk-container-id-6 label.sk-toggleable__label-arrow:hover:before {color: black;}#sk-container-id-6 div.sk-estimator:hover label.sk-toggleable__label-arrow:before {color: black;}#sk-container-id-6 div.sk-toggleable__content {max-height: 0;max-width: 0;overflow: hidden;text-align: left;background-color: #f0f8ff;}#sk-container-id-6 div.sk-toggleable__content pre {margin: 0.2em;color: black;border-radius: 0.25em;background-color: #f0f8ff;}#sk-container-id-6 input.sk-toggleable__control:checked~div.sk-toggleable__content {max-height: 200px;max-width: 100%;overflow: auto;}#sk-container-id-6 input.sk-toggleable__control:checked~label.sk-toggleable__label-arrow:before {content: \"▾\";}#sk-container-id-6 div.sk-estimator input.sk-toggleable__control:checked~label.sk-toggleable__label {background-color: #d4ebff;}#sk-container-id-6 div.sk-label input.sk-toggleable__control:checked~label.sk-toggleable__label {background-color: #d4ebff;}#sk-container-id-6 input.sk-hidden--visually {border: 0;clip: rect(1px 1px 1px 1px);clip: rect(1px, 1px, 1px, 1px);height: 1px;margin: -1px;overflow: hidden;padding: 0;position: absolute;width: 1px;}#sk-container-id-6 div.sk-estimator {font-family: monospace;background-color: #f0f8ff;border: 1px dotted black;border-radius: 0.25em;box-sizing: border-box;margin-bottom: 0.5em;}#sk-container-id-6 div.sk-estimator:hover {background-color: #d4ebff;}#sk-container-id-6 div.sk-parallel-item::after {content: \"\";width: 100%;border-bottom: 1px solid gray;flex-grow: 1;}#sk-container-id-6 div.sk-label:hover label.sk-toggleable__label {background-color: #d4ebff;}#sk-container-id-6 div.sk-serial::before {content: \"\";position: absolute;border-left: 1px solid gray;box-sizing: border-box;top: 0;bottom: 0;left: 50%;z-index: 0;}#sk-container-id-6 div.sk-serial {display: flex;flex-direction: column;align-items: center;background-color: white;padding-right: 0.2em;padding-left: 0.2em;position: relative;}#sk-container-id-6 div.sk-item {position: relative;z-index: 1;}#sk-container-id-6 div.sk-parallel {display: flex;align-items: stretch;justify-content: center;background-color: white;position: relative;}#sk-container-id-6 div.sk-item::before, #sk-container-id-6 div.sk-parallel-item::before {content: \"\";position: absolute;border-left: 1px solid gray;box-sizing: border-box;top: 0;bottom: 0;left: 50%;z-index: -1;}#sk-container-id-6 div.sk-parallel-item {display: flex;flex-direction: column;z-index: 1;position: relative;background-color: white;}#sk-container-id-6 div.sk-parallel-item:first-child::after {align-self: flex-end;width: 50%;}#sk-container-id-6 div.sk-parallel-item:last-child::after {align-self: flex-start;width: 50%;}#sk-container-id-6 div.sk-parallel-item:only-child::after {width: 0;}#sk-container-id-6 div.sk-dashed-wrapped {border: 1px dashed gray;margin: 0 0.4em 0.5em 0.4em;box-sizing: border-box;padding-bottom: 0.4em;background-color: white;}#sk-container-id-6 div.sk-label label {font-family: monospace;font-weight: bold;display: inline-block;line-height: 1.2em;}#sk-container-id-6 div.sk-label-container {text-align: center;}#sk-container-id-6 div.sk-container {/* jupyter's `normalize.less` sets `[hidden] { display: none; }` but bootstrap.min.css set `[hidden] { display: none !important; }` so we also need the `!important` here to be able to override the default hidden behavior on the sphinx rendered scikit-learn.org. See: https://github.com/scikit-learn/scikit-learn/issues/21755 */display: inline-block !important;position: relative;}#sk-container-id-6 div.sk-text-repr-fallback {display: none;}</style><div id=\"sk-container-id-6\" class=\"sk-top-container\"><div class=\"sk-text-repr-fallback\"><pre>GradientBoostingClassifier(learning_rate=0.05, n_estimators=150)</pre><b>In a Jupyter environment, please rerun this cell to show the HTML representation or trust the notebook. <br />On GitHub, the HTML representation is unable to render, please try loading this page with nbviewer.org.</b></div><div class=\"sk-container\" hidden><div class=\"sk-item\"><div class=\"sk-estimator sk-toggleable\"><input class=\"sk-toggleable__control sk-hidden--visually\" id=\"sk-estimator-id-12\" type=\"checkbox\" checked><label for=\"sk-estimator-id-12\" class=\"sk-toggleable__label sk-toggleable__label-arrow\">GradientBoostingClassifier</label><div class=\"sk-toggleable__content\"><pre>GradientBoostingClassifier(learning_rate=0.05, n_estimators=150)</pre></div></div></div></div></div>"
      ],
      "text/plain": [
       "GradientBoostingClassifier(learning_rate=0.05, n_estimators=150)"
      ]
     },
     "execution_count": 71,
     "metadata": {},
     "output_type": "execute_result"
    }
   ],
   "source": [
    "gbc_grid_model.best_estimator_"
   ]
  },
  {
   "cell_type": "code",
   "execution_count": 72,
   "id": "ec0c6c7f-fb63-498e-a613-829524406a20",
   "metadata": {},
   "outputs": [],
   "source": [
    "gbc_predictions = gbc_grid_model.predict(X_test)"
   ]
  },
  {
   "cell_type": "code",
   "execution_count": 73,
   "id": "6c4c98e3-9aca-4fab-b6c1-a9efcf0465fd",
   "metadata": {},
   "outputs": [
    {
     "name": "stdout",
     "output_type": "stream",
     "text": [
      "              precision    recall  f1-score   support\n",
      "\n",
      "           0       0.86      0.86      0.86        87\n",
      "           1       0.74      0.74      0.74        47\n",
      "\n",
      "    accuracy                           0.82       134\n",
      "   macro avg       0.80      0.80      0.80       134\n",
      "weighted avg       0.82      0.82      0.82       134\n",
      "\n"
     ]
    }
   ],
   "source": [
    "print(classification_report(y_test, gbc_predictions))"
   ]
  },
  {
   "cell_type": "code",
   "execution_count": 74,
   "id": "acb14643-77aa-4f15-863d-194c13b9de7b",
   "metadata": {},
   "outputs": [
    {
     "data": {
      "text/plain": [
       "<sklearn.metrics._plot.confusion_matrix.ConfusionMatrixDisplay at 0x2680dbbf8e0>"
      ]
     },
     "execution_count": 74,
     "metadata": {},
     "output_type": "execute_result"
    },
    {
     "data": {
      "image/png": "[encoded data removed]",
      "text/plain": [
       "<Figure size 640x480 with 2 Axes>"
      ]
     },
     "metadata": {},
     "output_type": "display_data"
    }
   ],
   "source": [
    "ConfusionMatrixDisplay.from_estimator(gbc_grid_model, X_test, y_test)"
   ]
  },
  {
   "cell_type": "markdown",
   "id": "00e6bed4-0b7d-41be-ba23-16a68fe5be77",
   "metadata": {},
   "source": [
    "### Prediction using Deep Learning (Tensorflow and Keras)"
   ]
  },
  {
   "cell_type": "code",
   "execution_count": 75,
   "id": "297cc42b-c928-41ad-b5fd-9ee1ec55cad3",
   "metadata": {},
   "outputs": [],
   "source": [
    "X = df.drop('survived', axis=1).values\n",
    "y = df['survived'].values"
   ]
  },
  {
   "cell_type": "code",
   "execution_count": 76,
   "id": "af7acb68-2af5-4c34-af7f-a3586a78ea4a",
   "metadata": {},
   "outputs": [],
   "source": [
    "X_train, X_test, y_train, y_test = train_test_split(X, y, test_size=0.15, random_state=42)"
   ]
  },
  {
   "cell_type": "code",
   "execution_count": 77,
   "id": "e504e9bb-f2be-4cc8-adef-d1b84c05dc53",
   "metadata": {},
   "outputs": [],
   "source": [
    "scaler = MinMaxScaler()"
   ]
  },
  {
   "cell_type": "code",
   "execution_count": 78,
   "id": "f01501ad-c594-43ea-bde1-10ace415e03b",
   "metadata": {},
   "outputs": [],
   "source": [
    "X_train = scaler.fit_transform(X_train)\n",
    "X_test = scaler.transform(X_test)"
   ]
  },
  {
   "cell_type": "code",
   "execution_count": 79,
   "id": "8ea6772a-e1dc-4fa5-a663-48ca6d918c5c",
   "metadata": {},
   "outputs": [],
   "source": [
    "from tensorflow.keras.models import Sequential"
   ]
  },
  {
   "cell_type": "code",
   "execution_count": 80,
   "id": "0cbcea1b-6848-4663-a778-e37b42a9b2e1",
   "metadata": {},
   "outputs": [],
   "source": [
    "from tensorflow.keras.layers import Dense, Dropout\n",
    "from tensorflow.keras.callbacks import EarlyStopping"
   ]
  },
  {
   "cell_type": "code",
   "execution_count": 81,
   "id": "8cad20da-22d3-46fb-9b31-c1bef3664bdd",
   "metadata": {},
   "outputs": [
    {
     "data": {
      "text/plain": [
       "(755, 29)"
      ]
     },
     "execution_count": 81,
     "metadata": {},
     "output_type": "execute_result"
    }
   ],
   "source": [
    "X_train.shape"
   ]
  },
  {
   "cell_type": "code",
   "execution_count": 82,
   "id": "74f9271c-f9fd-41b6-9637-a68d6197f1a8",
   "metadata": {},
   "outputs": [],
   "source": [
    "dl_model = Sequential()\n",
    "\n",
    "# Input layer should have 29 neurons (= total number of features)\n",
    "dl_model.add(Dense(29, activation='relu'))\n",
    "dl_model.add(Dropout(rate=0.5))\n",
    "\n",
    "dl_model.add(Dense(15, activation='relu'))\n",
    "dl_model.add(Dropout(rate=0.5))\n",
    "\n",
    "dl_model.add(Dense(7, activation='relu'))\n",
    "dl_model.add(Dropout(rate=0.5))\n",
    "\n",
    "# Binary classification problem so sigmoid is the activation function for the output layer\n",
    "dl_model.add(Dense(1, activation='sigmoid'))\n",
    "\n",
    "dl_model.compile(loss='binary_crossentropy', optimizer='adam')"
   ]
  },
  {
   "cell_type": "code",
   "execution_count": 83,
   "id": "f6408d99-f1c2-4226-b2d3-6613a0c0dd7f",
   "metadata": {},
   "outputs": [],
   "source": [
    "early_stop = EarlyStopping(monitor='val_loss', verbose=1, patience=10)"
   ]
  },
  {
   "cell_type": "code",
   "execution_count": 84,
   "id": "48e1d4f9-80f2-459c-9c56-1d6efd435f4f",
   "metadata": {},
   "outputs": [
    {
     "name": "stdout",
     "output_type": "stream",
     "text": [
      "Epoch 1/500\n",
      "24/24 [==============================] - 2s 21ms/step - loss: 0.8073 - val_loss: 0.7016\n",
      "Epoch 2/500\n",
      "24/24 [==============================] - 0s 13ms/step - loss: 0.7383 - val_loss: 0.6850\n",
      "Epoch 3/500\n",
      "24/24 [==============================] - 0s 12ms/step - loss: 0.7107 - val_loss: 0.6747\n",
      "Epoch 4/500\n",
      "24/24 [==============================] - 0s 12ms/step - loss: 0.6936 - val_loss: 0.6688\n",
      "Epoch 5/500\n",
      "24/24 [==============================] - 0s 12ms/step - loss: 0.6922 - val_loss: 0.6659\n",
      "Epoch 6/500\n",
      "24/24 [==============================] - 0s 12ms/step - loss: 0.6808 - val_loss: 0.6625\n",
      "Epoch 7/500\n",
      "24/24 [==============================] - 0s 12ms/step - loss: 0.6750 - val_loss: 0.6593\n",
      "Epoch 8/500\n",
      "24/24 [==============================] - 0s 12ms/step - loss: 0.6741 - val_loss: 0.6566\n",
      "Epoch 9/500\n",
      "24/24 [==============================] - 0s 12ms/step - loss: 0.6588 - val_loss: 0.6517\n",
      "Epoch 10/500\n",
      "24/24 [==============================] - 0s 12ms/step - loss: 0.6689 - val_loss: 0.6467\n",
      "Epoch 11/500\n",
      "24/24 [==============================] - 0s 12ms/step - loss: 0.6498 - val_loss: 0.6405\n",
      "Epoch 12/500\n",
      "24/24 [==============================] - 0s 12ms/step - loss: 0.6521 - val_loss: 0.6341\n",
      "Epoch 13/500\n",
      "24/24 [==============================] - 0s 13ms/step - loss: 0.6455 - val_loss: 0.6302\n",
      "Epoch 14/500\n",
      "24/24 [==============================] - 0s 13ms/step - loss: 0.6410 - val_loss: 0.6214\n",
      "Epoch 15/500\n",
      "24/24 [==============================] - 0s 12ms/step - loss: 0.6352 - val_loss: 0.6153\n",
      "Epoch 16/500\n",
      "24/24 [==============================] - 0s 14ms/step - loss: 0.6255 - val_loss: 0.6046\n",
      "Epoch 17/500\n",
      "24/24 [==============================] - 0s 12ms/step - loss: 0.6475 - val_loss: 0.5990\n",
      "Epoch 18/500\n",
      "24/24 [==============================] - 0s 13ms/step - loss: 0.6071 - val_loss: 0.5927\n",
      "Epoch 19/500\n",
      "24/24 [==============================] - 0s 11ms/step - loss: 0.6093 - val_loss: 0.5833\n",
      "Epoch 20/500\n",
      "24/24 [==============================] - 0s 11ms/step - loss: 0.5927 - val_loss: 0.5721\n",
      "Epoch 21/500\n",
      "24/24 [==============================] - 0s 12ms/step - loss: 0.6145 - val_loss: 0.5677\n",
      "Epoch 22/500\n",
      "24/24 [==============================] - 0s 12ms/step - loss: 0.5942 - val_loss: 0.5581\n",
      "Epoch 23/500\n",
      "24/24 [==============================] - 0s 12ms/step - loss: 0.5795 - val_loss: 0.5426\n",
      "Epoch 24/500\n",
      "24/24 [==============================] - 0s 12ms/step - loss: 0.5999 - val_loss: 0.5343\n",
      "Epoch 25/500\n",
      "24/24 [==============================] - 0s 12ms/step - loss: 0.5973 - val_loss: 0.5339\n",
      "Epoch 26/500\n",
      "24/24 [==============================] - 0s 13ms/step - loss: 0.5802 - val_loss: 0.5252\n",
      "Epoch 27/500\n",
      "24/24 [==============================] - 0s 12ms/step - loss: 0.5754 - val_loss: 0.5203\n",
      "Epoch 28/500\n",
      "24/24 [==============================] - 0s 12ms/step - loss: 0.5866 - val_loss: 0.5161\n",
      "Epoch 29/500\n",
      "24/24 [==============================] - 0s 13ms/step - loss: 0.5790 - val_loss: 0.5081\n",
      "Epoch 30/500\n",
      "24/24 [==============================] - 0s 13ms/step - loss: 0.5726 - val_loss: 0.5040\n",
      "Epoch 31/500\n",
      "24/24 [==============================] - 0s 12ms/step - loss: 0.5673 - val_loss: 0.4961\n",
      "Epoch 32/500\n",
      "24/24 [==============================] - 0s 13ms/step - loss: 0.5678 - val_loss: 0.4945\n",
      "Epoch 33/500\n",
      "24/24 [==============================] - 0s 12ms/step - loss: 0.5614 - val_loss: 0.4867\n",
      "Epoch 34/500\n",
      "24/24 [==============================] - 0s 12ms/step - loss: 0.5699 - val_loss: 0.4871\n",
      "Epoch 35/500\n",
      "24/24 [==============================] - 0s 12ms/step - loss: 0.5390 - val_loss: 0.4799\n",
      "Epoch 36/500\n",
      "24/24 [==============================] - 0s 13ms/step - loss: 0.5409 - val_loss: 0.4758\n",
      "Epoch 37/500\n",
      "24/24 [==============================] - 0s 12ms/step - loss: 0.5553 - val_loss: 0.4739\n",
      "Epoch 38/500\n",
      "24/24 [==============================] - 0s 13ms/step - loss: 0.5636 - val_loss: 0.4706\n",
      "Epoch 39/500\n",
      "24/24 [==============================] - 0s 13ms/step - loss: 0.5403 - val_loss: 0.4673\n",
      "Epoch 40/500\n",
      "24/24 [==============================] - 0s 13ms/step - loss: 0.5413 - val_loss: 0.4682\n",
      "Epoch 41/500\n",
      "24/24 [==============================] - 0s 12ms/step - loss: 0.5341 - val_loss: 0.4642\n",
      "Epoch 42/500\n",
      "24/24 [==============================] - 0s 13ms/step - loss: 0.5615 - val_loss: 0.4613\n",
      "Epoch 43/500\n",
      "24/24 [==============================] - 0s 14ms/step - loss: 0.5339 - val_loss: 0.4580\n",
      "Epoch 44/500\n",
      "24/24 [==============================] - 0s 12ms/step - loss: 0.5487 - val_loss: 0.4570\n",
      "Epoch 45/500\n",
      "24/24 [==============================] - 0s 13ms/step - loss: 0.5455 - val_loss: 0.4578\n",
      "Epoch 46/500\n",
      "24/24 [==============================] - 0s 13ms/step - loss: 0.5422 - val_loss: 0.4542\n",
      "Epoch 47/500\n",
      "24/24 [==============================] - 0s 14ms/step - loss: 0.5323 - val_loss: 0.4525\n",
      "Epoch 48/500\n",
      "24/24 [==============================] - 0s 12ms/step - loss: 0.5199 - val_loss: 0.4513\n",
      "Epoch 49/500\n",
      "24/24 [==============================] - 0s 13ms/step - loss: 0.5210 - val_loss: 0.4501\n",
      "Epoch 50/500\n",
      "24/24 [==============================] - 0s 14ms/step - loss: 0.5039 - val_loss: 0.4475\n",
      "Epoch 51/500\n",
      "24/24 [==============================] - 0s 13ms/step - loss: 0.5428 - val_loss: 0.4464\n",
      "Epoch 52/500\n",
      "24/24 [==============================] - 0s 14ms/step - loss: 0.5343 - val_loss: 0.4471\n",
      "Epoch 53/500\n",
      "24/24 [==============================] - 0s 13ms/step - loss: 0.5162 - val_loss: 0.4457\n",
      "Epoch 54/500\n",
      "24/24 [==============================] - 0s 14ms/step - loss: 0.5374 - val_loss: 0.4482\n",
      "Epoch 55/500\n",
      "24/24 [==============================] - 0s 12ms/step - loss: 0.5331 - val_loss: 0.4469\n",
      "Epoch 56/500\n",
      "24/24 [==============================] - 0s 14ms/step - loss: 0.5020 - val_loss: 0.4451\n",
      "Epoch 57/500\n",
      "24/24 [==============================] - 0s 12ms/step - loss: 0.5123 - val_loss: 0.4417\n",
      "Epoch 58/500\n",
      "24/24 [==============================] - 0s 13ms/step - loss: 0.5235 - val_loss: 0.4402\n",
      "Epoch 59/500\n",
      "24/24 [==============================] - 0s 12ms/step - loss: 0.5173 - val_loss: 0.4396\n",
      "Epoch 60/500\n",
      "24/24 [==============================] - 0s 11ms/step - loss: 0.5034 - val_loss: 0.4389\n",
      "Epoch 61/500\n",
      "24/24 [==============================] - 0s 12ms/step - loss: 0.5181 - val_loss: 0.4361\n",
      "Epoch 62/500\n",
      "24/24 [==============================] - 0s 12ms/step - loss: 0.5047 - val_loss: 0.4346\n",
      "Epoch 63/500\n",
      "24/24 [==============================] - 0s 11ms/step - loss: 0.5126 - val_loss: 0.4335\n",
      "Epoch 64/500\n",
      "24/24 [==============================] - 0s 12ms/step - loss: 0.4917 - val_loss: 0.4335\n",
      "Epoch 65/500\n",
      "24/24 [==============================] - 0s 12ms/step - loss: 0.5097 - val_loss: 0.4296\n",
      "Epoch 66/500\n",
      "24/24 [==============================] - 0s 12ms/step - loss: 0.4914 - val_loss: 0.4297\n",
      "Epoch 67/500\n",
      "24/24 [==============================] - 0s 12ms/step - loss: 0.4970 - val_loss: 0.4304\n",
      "Epoch 68/500\n",
      "24/24 [==============================] - 0s 12ms/step - loss: 0.5090 - val_loss: 0.4299\n",
      "Epoch 69/500\n",
      "24/24 [==============================] - 0s 12ms/step - loss: 0.5085 - val_loss: 0.4328\n",
      "Epoch 70/500\n",
      "24/24 [==============================] - 0s 13ms/step - loss: 0.4989 - val_loss: 0.4315\n",
      "Epoch 71/500\n",
      "24/24 [==============================] - 0s 12ms/step - loss: 0.5322 - val_loss: 0.4330\n",
      "Epoch 72/500\n",
      "24/24 [==============================] - 0s 12ms/step - loss: 0.4896 - val_loss: 0.4327\n",
      "Epoch 73/500\n",
      "24/24 [==============================] - 0s 12ms/step - loss: 0.5005 - val_loss: 0.4346\n",
      "Epoch 74/500\n",
      "24/24 [==============================] - 0s 12ms/step - loss: 0.4919 - val_loss: 0.4319\n",
      "Epoch 75/500\n",
      "24/24 [==============================] - 0s 12ms/step - loss: 0.4880 - val_loss: 0.4284\n",
      "Epoch 76/500\n",
      "24/24 [==============================] - 0s 12ms/step - loss: 0.4797 - val_loss: 0.4289\n",
      "Epoch 77/500\n",
      "24/24 [==============================] - 0s 12ms/step - loss: 0.4907 - val_loss: 0.4292\n",
      "Epoch 78/500\n",
      "24/24 [==============================] - 0s 12ms/step - loss: 0.4714 - val_loss: 0.4291\n",
      "Epoch 79/500\n",
      "24/24 [==============================] - 0s 12ms/step - loss: 0.4914 - val_loss: 0.4289\n",
      "Epoch 80/500\n",
      "24/24 [==============================] - 0s 12ms/step - loss: 0.4965 - val_loss: 0.4290\n",
      "Epoch 81/500\n",
      "24/24 [==============================] - 0s 12ms/step - loss: 0.4766 - val_loss: 0.4254\n",
      "Epoch 82/500\n",
      "24/24 [==============================] - 0s 12ms/step - loss: 0.5074 - val_loss: 0.4245\n",
      "Epoch 83/500\n",
      "24/24 [==============================] - 0s 12ms/step - loss: 0.4689 - val_loss: 0.4274\n",
      "Epoch 84/500\n",
      "24/24 [==============================] - 0s 13ms/step - loss: 0.5037 - val_loss: 0.4274\n",
      "Epoch 85/500\n",
      "24/24 [==============================] - 0s 13ms/step - loss: 0.4675 - val_loss: 0.4273\n",
      "Epoch 86/500\n",
      "24/24 [==============================] - 0s 12ms/step - loss: 0.4844 - val_loss: 0.4260\n",
      "Epoch 87/500\n",
      "24/24 [==============================] - 0s 13ms/step - loss: 0.4921 - val_loss: 0.4253\n",
      "Epoch 88/500\n",
      "24/24 [==============================] - 0s 12ms/step - loss: 0.4895 - val_loss: 0.4239\n",
      "Epoch 89/500\n",
      "24/24 [==============================] - 0s 11ms/step - loss: 0.4512 - val_loss: 0.4222\n",
      "Epoch 90/500\n",
      "24/24 [==============================] - 0s 12ms/step - loss: 0.4788 - val_loss: 0.4197\n",
      "Epoch 91/500\n",
      "24/24 [==============================] - 0s 12ms/step - loss: 0.4859 - val_loss: 0.4237\n",
      "Epoch 92/500\n",
      "24/24 [==============================] - 0s 12ms/step - loss: 0.4437 - val_loss: 0.4238\n",
      "Epoch 93/500\n",
      "24/24 [==============================] - 0s 11ms/step - loss: 0.4830 - val_loss: 0.4244\n",
      "Epoch 94/500\n",
      "24/24 [==============================] - 0s 13ms/step - loss: 0.4607 - val_loss: 0.4253\n",
      "Epoch 95/500\n",
      "24/24 [==============================] - 0s 11ms/step - loss: 0.5017 - val_loss: 0.4261\n",
      "Epoch 96/500\n",
      "24/24 [==============================] - 0s 12ms/step - loss: 0.4592 - val_loss: 0.4248\n",
      "Epoch 97/500\n",
      "24/24 [==============================] - 0s 12ms/step - loss: 0.4510 - val_loss: 0.4224\n",
      "Epoch 98/500\n",
      "24/24 [==============================] - 0s 12ms/step - loss: 0.4855 - val_loss: 0.4256\n",
      "Epoch 99/500\n",
      "24/24 [==============================] - 0s 13ms/step - loss: 0.4456 - val_loss: 0.4243\n",
      "Epoch 100/500\n",
      "24/24 [==============================] - 0s 12ms/step - loss: 0.4597 - val_loss: 0.4263\n",
      "Epoch 100: early stopping\n"
     ]
    },
    {
     "data": {
      "text/plain": [
       "<keras.callbacks.History at 0x26816b15040>"
      ]
     },
     "execution_count": 84,
     "metadata": {},
     "output_type": "execute_result"
    }
   ],
   "source": [
    "# Choosing intentionally a high number of epochs and let the Early Stopping determine the eventual number\n",
    "dl_model.fit(X_train, y_train, epochs=500, validation_data=(X_test, y_test), callbacks=[early_stop])"
   ]
  },
  {
   "cell_type": "code",
   "execution_count": 85,
   "id": "61763942-2bbb-4225-b99a-c4b4797bcd8a",
   "metadata": {},
   "outputs": [
    {
     "data": {
      "text/plain": [
       "<Axes: >"
      ]
     },
     "execution_count": 85,
     "metadata": {},
     "output_type": "execute_result"
    },
    {
     "data": {
      "image/png": "[encoded data removed]",
      "text/plain": [
       "<Figure size 640x480 with 1 Axes>"
      ]
     },
     "metadata": {},
     "output_type": "display_data"
    }
   ],
   "source": [
    "pd.DataFrame(dl_model.history.history).plot()"
   ]
  },
  {
   "cell_type": "code",
   "execution_count": 86,
   "id": "4582aa1a-68dc-46f9-a3d3-8f400214421d",
   "metadata": {},
   "outputs": [
    {
     "name": "stdout",
     "output_type": "stream",
     "text": [
      "5/5 [==============================] - 0s 3ms/step\n"
     ]
    }
   ],
   "source": [
    "predictions = (dl_model.predict(X_test) > 0.5).astype(\"int32\")"
   ]
  },
  {
   "cell_type": "code",
   "execution_count": 87,
   "id": "5d8de0d1-b7c4-40f4-b424-eb0b5eaaab15",
   "metadata": {},
   "outputs": [
    {
     "name": "stdout",
     "output_type": "stream",
     "text": [
      "              precision    recall  f1-score   support\n",
      "\n",
      "           0       0.84      0.92      0.88        87\n",
      "           1       0.82      0.68      0.74        47\n",
      "\n",
      "    accuracy                           0.84       134\n",
      "   macro avg       0.83      0.80      0.81       134\n",
      "weighted avg       0.83      0.84      0.83       134\n",
      "\n"
     ]
    }
   ],
   "source": [
    "print(classification_report(y_test, predictions))"
   ]
  },
  {
   "cell_type": "code",
   "execution_count": 88,
   "id": "7bfbaf38-70ff-49ee-a247-2e5c346813fc",
   "metadata": {},
   "outputs": [
    {
     "data": {
      "text/plain": [
       "<sklearn.metrics._plot.confusion_matrix.ConfusionMatrixDisplay at 0x2682782e550>"
      ]
     },
     "execution_count": 88,
     "metadata": {},
     "output_type": "execute_result"
    },
    {
     "data": {
      "image/png": "[encoded data removed]",
      "text/plain": [
       "<Figure size 640x480 with 2 Axes>"
      ]
     },
     "metadata": {},
     "output_type": "display_data"
    }
   ],
   "source": [
    "ConfusionMatrixDisplay.from_predictions(y_test, predictions)"
   ]
  },
  {
   "cell_type": "markdown",
   "id": "38b38190-463a-4bf9-8b1c-cd304c4043a5",
   "metadata": {},
   "source": [
    "Verdict: good old logistic regression peformed fine in this little project. Performance between different models was pretty similar."
   ]
  }
 ],
 "metadata": {
  "kernelspec": {
   "display_name": "Python 3 (ipykernel)",
   "language": "python",
   "name": "python3"
  },
  "language_info": {
   "codemirror_mode": {
    "name": "ipython",
    "version": 3
   },
   "file_extension": ".py",
   "mimetype": "text/x-python",
   "name": "python",
   "nbconvert_exporter": "python",
   "pygments_lexer": "ipython3",
   "version": "3.9.17"
  }
 },
 "nbformat": 4,
 "nbformat_minor": 5
}
